{
 "cells": [
  {
   "cell_type": "code",
   "execution_count": 21,
   "metadata": {
    "scrolled": false
   },
   "outputs": [],
   "source": [
    "import json\n",
    "import pandas as pd\n",
    "import matplotlib.pyplot as plt\n",
    "import os\n",
    "%matplotlib inline\n",
    "#path = './data/line_1/20180414/20180414_F_1_L1.I_5209MI.txt'\n",
    "#path = './data/line_1/20180414/20180414_F_1_L1.I_5209bMI.txt'\n",
    "path = '../data/line_1/'\n",
    "file = 'F_1_L1.I_5209MI'\n",
    "fileb = 'F_1_L1.I_5209bMI'\n",
    "def loadData(path,file_name):\n",
    "    alldata = []\n",
    "    for i in os.listdir('../data/line_1'):\n",
    "        \n",
    "        path2 = path + i + '/' + i + '_' + file_name + '.txt'\n",
    "        print(path2)\n",
    "        f = open(path2) \n",
    "        data = json.load(f)\n",
    "        alldata.extend(data[file_name])\n",
    "    return alldata"
   ]
  },
  {
   "cell_type": "code",
   "execution_count": 22,
   "metadata": {
    "scrolled": true
   },
   "outputs": [
    {
     "name": "stdout",
     "output_type": "stream",
     "text": [
      "../data/line_1/20180414/20180414_F_1_L1.I_5209MI.txt\n",
      "../data/line_1/20180421/20180421_F_1_L1.I_5209MI.txt\n",
      "../data/line_1/20180428/20180428_F_1_L1.I_5209MI.txt\n",
      "../data/line_1/20180505/20180505_F_1_L1.I_5209MI.txt\n",
      "../data/line_1/20180512/20180512_F_1_L1.I_5209MI.txt\n",
      "../data/line_1/20180519/20180519_F_1_L1.I_5209MI.txt\n",
      "../data/line_1/20180526/20180526_F_1_L1.I_5209MI.txt\n",
      "../data/line_1/20180602/20180602_F_1_L1.I_5209MI.txt\n",
      "../data/line_1/20180609/20180609_F_1_L1.I_5209MI.txt\n",
      "../data/line_1/20180616/20180616_F_1_L1.I_5209MI.txt\n",
      "../data/line_1/20180623/20180623_F_1_L1.I_5209MI.txt\n",
      "../data/line_1/20180630/20180630_F_1_L1.I_5209MI.txt\n",
      "../data/line_1/20180707/20180707_F_1_L1.I_5209MI.txt\n",
      "../data/line_1/20180714/20180714_F_1_L1.I_5209MI.txt\n"
     ]
    }
   ],
   "source": [
    "t = loadData(path,file)"
   ]
  },
  {
   "cell_type": "code",
   "execution_count": 23,
   "metadata": {
    "scrolled": true
   },
   "outputs": [
    {
     "name": "stdout",
     "output_type": "stream",
     "text": [
      "../data/line_1/20180414/20180414_F_1_L1.I_5209bMI.txt\n",
      "../data/line_1/20180421/20180421_F_1_L1.I_5209bMI.txt\n",
      "../data/line_1/20180428/20180428_F_1_L1.I_5209bMI.txt\n",
      "../data/line_1/20180505/20180505_F_1_L1.I_5209bMI.txt\n",
      "../data/line_1/20180512/20180512_F_1_L1.I_5209bMI.txt\n",
      "../data/line_1/20180519/20180519_F_1_L1.I_5209bMI.txt\n",
      "../data/line_1/20180526/20180526_F_1_L1.I_5209bMI.txt\n",
      "../data/line_1/20180602/20180602_F_1_L1.I_5209bMI.txt\n",
      "../data/line_1/20180609/20180609_F_1_L1.I_5209bMI.txt\n",
      "../data/line_1/20180616/20180616_F_1_L1.I_5209bMI.txt\n",
      "../data/line_1/20180623/20180623_F_1_L1.I_5209bMI.txt\n",
      "../data/line_1/20180630/20180630_F_1_L1.I_5209bMI.txt\n",
      "../data/line_1/20180707/20180707_F_1_L1.I_5209bMI.txt\n",
      "../data/line_1/20180714/20180714_F_1_L1.I_5209bMI.txt\n"
     ]
    }
   ],
   "source": [
    "tb = loadData(path,fileb)"
   ]
  },
  {
   "cell_type": "code",
   "execution_count": 24,
   "metadata": {},
   "outputs": [
    {
     "name": "stdout",
     "output_type": "stream",
     "text": [
      "2901602\n",
      "2964980\n"
     ]
    }
   ],
   "source": [
    "print(len(t))\n",
    "print(len(tb))"
   ]
  },
  {
   "cell_type": "code",
   "execution_count": 25,
   "metadata": {
    "scrolled": true
   },
   "outputs": [],
   "source": [
    "data = pd.DataFrame(t)\n",
    "datab = pd.DataFrame(tb)"
   ]
  },
  {
   "cell_type": "code",
   "execution_count": 26,
   "metadata": {},
   "outputs": [
    {
     "data": {
      "text/html": [
       "<div>\n",
       "<style scoped>\n",
       "    .dataframe tbody tr th:only-of-type {\n",
       "        vertical-align: middle;\n",
       "    }\n",
       "\n",
       "    .dataframe tbody tr th {\n",
       "        vertical-align: top;\n",
       "    }\n",
       "\n",
       "    .dataframe thead th {\n",
       "        text-align: right;\n",
       "    }\n",
       "</style>\n",
       "<table border=\"1\" class=\"dataframe\">\n",
       "  <thead>\n",
       "    <tr style=\"text-align: right;\">\n",
       "      <th></th>\n",
       "      <th>quality</th>\n",
       "      <th>ts</th>\n",
       "      <th>value</th>\n",
       "    </tr>\n",
       "  </thead>\n",
       "  <tbody>\n",
       "    <tr>\n",
       "      <th>0</th>\n",
       "      <td>优</td>\n",
       "      <td>2018-04-14 08:00:01.238</td>\n",
       "      <td>126.515091</td>\n",
       "    </tr>\n",
       "    <tr>\n",
       "      <th>1</th>\n",
       "      <td>优</td>\n",
       "      <td>2018-04-14 08:00:02.345</td>\n",
       "      <td>126.688896</td>\n",
       "    </tr>\n",
       "    <tr>\n",
       "      <th>2</th>\n",
       "      <td>优</td>\n",
       "      <td>2018-04-14 08:00:06.730</td>\n",
       "      <td>126.515091</td>\n",
       "    </tr>\n",
       "    <tr>\n",
       "      <th>3</th>\n",
       "      <td>优</td>\n",
       "      <td>2018-04-14 08:00:12.251</td>\n",
       "      <td>126.515091</td>\n",
       "    </tr>\n",
       "    <tr>\n",
       "      <th>4</th>\n",
       "      <td>优</td>\n",
       "      <td>2018-04-14 08:00:14.467</td>\n",
       "      <td>128.553360</td>\n",
       "    </tr>\n",
       "  </tbody>\n",
       "</table>\n",
       "</div>"
      ],
      "text/plain": [
       "  quality                       ts       value\n",
       "0       优  2018-04-14 08:00:01.238  126.515091\n",
       "1       优  2018-04-14 08:00:02.345  126.688896\n",
       "2       优  2018-04-14 08:00:06.730  126.515091\n",
       "3       优  2018-04-14 08:00:12.251  126.515091\n",
       "4       优  2018-04-14 08:00:14.467  128.553360"
      ]
     },
     "execution_count": 26,
     "metadata": {},
     "output_type": "execute_result"
    }
   ],
   "source": [
    "data.head()"
   ]
  },
  {
   "cell_type": "code",
   "execution_count": 27,
   "metadata": {},
   "outputs": [
    {
     "data": {
      "text/html": [
       "<div>\n",
       "<style scoped>\n",
       "    .dataframe tbody tr th:only-of-type {\n",
       "        vertical-align: middle;\n",
       "    }\n",
       "\n",
       "    .dataframe tbody tr th {\n",
       "        vertical-align: top;\n",
       "    }\n",
       "\n",
       "    .dataframe thead th {\n",
       "        text-align: right;\n",
       "    }\n",
       "</style>\n",
       "<table border=\"1\" class=\"dataframe\">\n",
       "  <thead>\n",
       "    <tr style=\"text-align: right;\">\n",
       "      <th></th>\n",
       "      <th>quality</th>\n",
       "      <th>ts</th>\n",
       "      <th>value</th>\n",
       "    </tr>\n",
       "  </thead>\n",
       "  <tbody>\n",
       "    <tr>\n",
       "      <th>0</th>\n",
       "      <td>优</td>\n",
       "      <td>2018-04-14 08:00:00.132</td>\n",
       "      <td>127.905533</td>\n",
       "    </tr>\n",
       "    <tr>\n",
       "      <th>1</th>\n",
       "      <td>优</td>\n",
       "      <td>2018-04-14 08:00:02.345</td>\n",
       "      <td>129.912216</td>\n",
       "    </tr>\n",
       "    <tr>\n",
       "      <th>2</th>\n",
       "      <td>优</td>\n",
       "      <td>2018-04-14 08:00:04.530</td>\n",
       "      <td>129.912216</td>\n",
       "    </tr>\n",
       "    <tr>\n",
       "      <th>3</th>\n",
       "      <td>优</td>\n",
       "      <td>2018-04-14 08:00:06.730</td>\n",
       "      <td>127.905533</td>\n",
       "    </tr>\n",
       "    <tr>\n",
       "      <th>4</th>\n",
       "      <td>优</td>\n",
       "      <td>2018-04-14 08:00:08.929</td>\n",
       "      <td>129.912216</td>\n",
       "    </tr>\n",
       "  </tbody>\n",
       "</table>\n",
       "</div>"
      ],
      "text/plain": [
       "  quality                       ts       value\n",
       "0       优  2018-04-14 08:00:00.132  127.905533\n",
       "1       优  2018-04-14 08:00:02.345  129.912216\n",
       "2       优  2018-04-14 08:00:04.530  129.912216\n",
       "3       优  2018-04-14 08:00:06.730  127.905533\n",
       "4       优  2018-04-14 08:00:08.929  129.912216"
      ]
     },
     "execution_count": 27,
     "metadata": {},
     "output_type": "execute_result"
    }
   ],
   "source": [
    "datab.head()"
   ]
  },
  {
   "cell_type": "code",
   "execution_count": 28,
   "metadata": {},
   "outputs": [],
   "source": [
    "data.value = pd.to_numeric(data.value, errors='ignore')\n",
    "datab.value = pd.to_numeric(datab.value,errors = 'ignore')\n",
    "\n",
    "data = data[data['value']> 0]\n",
    "datab = datab[datab['value'] > 0]"
   ]
  },
  {
   "cell_type": "code",
   "execution_count": 29,
   "metadata": {},
   "outputs": [
    {
     "data": {
      "text/plain": [
       "<matplotlib.axes._subplots.AxesSubplot at 0x9db31278>"
      ]
     },
     "execution_count": 29,
     "metadata": {},
     "output_type": "execute_result"
    },
    {
     "data": {
      "image/png": "[encoded data removed]",
      "text/plain": [
       "<Figure size 432x288 with 1 Axes>"
      ]
     },
     "metadata": {
      "needs_background": "light"
     },
     "output_type": "display_data"
    }
   ],
   "source": [
    "data.plot()"
   ]
  },
  {
   "cell_type": "code",
   "execution_count": 30,
   "metadata": {},
   "outputs": [
    {
     "data": {
      "text/plain": [
       "<matplotlib.axes._subplots.AxesSubplot at 0x9e287a20>"
      ]
     },
     "execution_count": 30,
     "metadata": {},
     "output_type": "execute_result"
    },
    {
     "data": {
      "image/png": "[encoded data removed]",
      "text/plain": [
       "<Figure size 432x288 with 1 Axes>"
      ]
     },
     "metadata": {
      "needs_background": "light"
     },
     "output_type": "display_data"
    }
   ],
   "source": [
    "datab.plot()"
   ]
  },
  {
   "cell_type": "code",
   "execution_count": 31,
   "metadata": {},
   "outputs": [],
   "source": [
    "new_ts = [data['ts'].iloc[i][0:13] for i in range(0,len(data))]"
   ]
  },
  {
   "cell_type": "code",
   "execution_count": 32,
   "metadata": {},
   "outputs": [],
   "source": [
    "new_tsb = [datab['ts'].iloc[i][0:13] for i in range(0,len(datab))]"
   ]
  },
  {
   "cell_type": "code",
   "execution_count": 33,
   "metadata": {},
   "outputs": [],
   "source": [
    "data.drop('ts',axis=1, inplace=True)\n",
    "datab.drop('ts',axis = 1,inplace = True)"
   ]
  },
  {
   "cell_type": "code",
   "execution_count": 34,
   "metadata": {
    "scrolled": true
   },
   "outputs": [],
   "source": [
    "data.insert(1,'ts',new_ts)\n",
    "datab.insert(1,'ts',new_tsb)"
   ]
  },
  {
   "cell_type": "code",
   "execution_count": 35,
   "metadata": {
    "scrolled": true
   },
   "outputs": [],
   "source": [
    "grouped = data['value'].groupby(data['ts'])\n",
    "groupedb = datab['value'].groupby(datab['ts'])"
   ]
  },
  {
   "cell_type": "code",
   "execution_count": 36,
   "metadata": {
    "scrolled": true
   },
   "outputs": [],
   "source": [
    "d1 = grouped.mean()\n",
    "d2 = groupedb.mean()"
   ]
  },
  {
   "cell_type": "code",
   "execution_count": 37,
   "metadata": {},
   "outputs": [],
   "source": [
    "d1 = pd.DataFrame(d1)"
   ]
  },
  {
   "cell_type": "code",
   "execution_count": 38,
   "metadata": {},
   "outputs": [],
   "source": [
    "d2 = pd.DataFrame(d2)"
   ]
  },
  {
   "cell_type": "code",
   "execution_count": 39,
   "metadata": {
    "scrolled": true
   },
   "outputs": [],
   "source": [
    "data_all = pd.merge(d1,d2,left_index= True, right_index=True)"
   ]
  },
  {
   "cell_type": "code",
   "execution_count": 40,
   "metadata": {},
   "outputs": [
    {
     "data": {
      "text/html": [
       "<div>\n",
       "<style scoped>\n",
       "    .dataframe tbody tr th:only-of-type {\n",
       "        vertical-align: middle;\n",
       "    }\n",
       "\n",
       "    .dataframe tbody tr th {\n",
       "        vertical-align: top;\n",
       "    }\n",
       "\n",
       "    .dataframe thead th {\n",
       "        text-align: right;\n",
       "    }\n",
       "</style>\n",
       "<table border=\"1\" class=\"dataframe\">\n",
       "  <thead>\n",
       "    <tr style=\"text-align: right;\">\n",
       "      <th></th>\n",
       "      <th>value_x</th>\n",
       "      <th>value_y</th>\n",
       "    </tr>\n",
       "    <tr>\n",
       "      <th>ts</th>\n",
       "      <th></th>\n",
       "      <th></th>\n",
       "    </tr>\n",
       "  </thead>\n",
       "  <tbody>\n",
       "    <tr>\n",
       "      <th>2018-04-14 08</th>\n",
       "      <td>127.034734</td>\n",
       "      <td>129.347573</td>\n",
       "    </tr>\n",
       "    <tr>\n",
       "      <th>2018-04-14 09</th>\n",
       "      <td>128.166482</td>\n",
       "      <td>130.080641</td>\n",
       "    </tr>\n",
       "    <tr>\n",
       "      <th>2018-04-14 10</th>\n",
       "      <td>129.254903</td>\n",
       "      <td>131.144854</td>\n",
       "    </tr>\n",
       "    <tr>\n",
       "      <th>2018-04-14 11</th>\n",
       "      <td>129.135995</td>\n",
       "      <td>130.771937</td>\n",
       "    </tr>\n",
       "    <tr>\n",
       "      <th>2018-04-14 12</th>\n",
       "      <td>128.162881</td>\n",
       "      <td>130.413879</td>\n",
       "    </tr>\n",
       "  </tbody>\n",
       "</table>\n",
       "</div>"
      ],
      "text/plain": [
       "                  value_x     value_y\n",
       "ts                                   \n",
       "2018-04-14 08  127.034734  129.347573\n",
       "2018-04-14 09  128.166482  130.080641\n",
       "2018-04-14 10  129.254903  131.144854\n",
       "2018-04-14 11  129.135995  130.771937\n",
       "2018-04-14 12  128.162881  130.413879"
      ]
     },
     "execution_count": 40,
     "metadata": {},
     "output_type": "execute_result"
    }
   ],
   "source": [
    "data_all.head()"
   ]
  },
  {
   "cell_type": "code",
   "execution_count": 41,
   "metadata": {},
   "outputs": [
    {
     "data": {
      "text/plain": [
       "Text(0, 0.5, 'F_1_L1.I_5209bMI_mean_value')"
      ]
     },
     "execution_count": 41,
     "metadata": {},
     "output_type": "execute_result"
    },
    {
     "data": {
      "image/png": "[encoded data removed]",
      "text/plain": [
       "<Figure size 432x288 with 1 Axes>"
      ]
     },
     "metadata": {
      "needs_background": "light"
     },
     "output_type": "display_data"
    }
   ],
   "source": [
    "#提升机A电流与提升机B电流结果反馈\n",
    "import numpy as np\n",
    "c=np.random.randint(0,10,len(data_all))\n",
    "plt.scatter(data_all.value_x,data_all.value_y,c = c,marker = 'o')\n",
    "plt.xlabel('F_1_L1.I_5209MI_mean_value')\n",
    "plt.ylabel('F_1_L1.I_5209bMI_mean_value')"
   ]
  },
  {
   "cell_type": "code",
   "execution_count": null,
   "metadata": {},
   "outputs": [],
   "source": []
  }
 ],
 "metadata": {
  "kernelspec": {
   "display_name": "Python 3",
   "language": "python",
   "name": "python3"
  },
  "language_info": {
   "codemirror_mode": {
    "name": "ipython",
    "version": 3
   },
   "file_extension": ".py",
   "mimetype": "text/x-python",
   "name": "python",
   "nbconvert_exporter": "python",
   "pygments_lexer": "ipython3",
   "version": "3.7.1"
  }
 },
 "nbformat": 4,
 "nbformat_minor": 2
}
