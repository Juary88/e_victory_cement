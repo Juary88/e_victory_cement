{
 "cells": [
  {
   "cell_type": "code",
   "execution_count": 1,
   "metadata": {},
   "outputs": [],
   "source": [
    "import json\n",
    "import pandas as pd\n",
    "import matplotlib.pyplot as plt\n",
    "import os\n",
    "%matplotlib inline\n",
    "#path = './data/line_1/20180414/20180414_F_1_L1.I_5209MI.txt'\n",
    "#path = './data/line_1/20180414/20180414_F_1_L1.I_5209bMI.txt'\n",
    "path = '../data/line_1/'\n",
    "file = 'F_1_L1.I_5202F02_2'\n",
    "fileb = 'F_1_L1.I_5202F02S01'\n",
    "filec = 'F_1_L1.I_5202F02I'\n",
    "def loadData(path,file_name):\n",
    "    alldata = []\n",
    "    for i in os.listdir('../data/line_1'):\n",
    "        \n",
    "        path2 = path + i + '/' + i + '_' + file_name + '.txt'\n",
    "        print(path)\n",
    "        f = open(path2) \n",
    "        data = json.load(f)\n",
    "        alldata.extend(data[file_name])\n",
    "    return alldata"
   ]
  },
  {
   "cell_type": "code",
   "execution_count": 2,
   "metadata": {
    "scrolled": true
   },
   "outputs": [
    {
     "name": "stdout",
     "output_type": "stream",
     "text": [
      "../data/line_1/\n",
      "../data/line_1/\n",
      "../data/line_1/\n",
      "../data/line_1/\n",
      "../data/line_1/\n",
      "../data/line_1/\n",
      "../data/line_1/\n",
      "../data/line_1/\n",
      "../data/line_1/\n",
      "../data/line_1/\n",
      "../data/line_1/\n",
      "../data/line_1/\n",
      "../data/line_1/\n",
      "../data/line_1/\n"
     ]
    }
   ],
   "source": [
    "l = loadData(path,file)"
   ]
  },
  {
   "cell_type": "code",
   "execution_count": 3,
   "metadata": {},
   "outputs": [],
   "source": [
    "data_l = pd.DataFrame(l)"
   ]
  },
  {
   "cell_type": "code",
   "execution_count": 4,
   "metadata": {},
   "outputs": [
    {
     "name": "stdout",
     "output_type": "stream",
     "text": [
      "../data/line_1/\n",
      "../data/line_1/\n",
      "../data/line_1/\n",
      "../data/line_1/\n",
      "../data/line_1/\n",
      "../data/line_1/\n",
      "../data/line_1/\n",
      "../data/line_1/\n",
      "../data/line_1/\n",
      "../data/line_1/\n",
      "../data/line_1/\n",
      "../data/line_1/\n",
      "../data/line_1/\n",
      "../data/line_1/\n"
     ]
    }
   ],
   "source": [
    "z_v = loadData(path,fileb)"
   ]
  },
  {
   "cell_type": "code",
   "execution_count": 5,
   "metadata": {},
   "outputs": [
    {
     "name": "stdout",
     "output_type": "stream",
     "text": [
      "../data/line_1/\n",
      "../data/line_1/\n",
      "../data/line_1/\n",
      "../data/line_1/\n",
      "../data/line_1/\n",
      "../data/line_1/\n",
      "../data/line_1/\n",
      "../data/line_1/\n",
      "../data/line_1/\n",
      "../data/line_1/\n",
      "../data/line_1/\n",
      "../data/line_1/\n",
      "../data/line_1/\n",
      "../data/line_1/\n"
     ]
    }
   ],
   "source": [
    "z_i = loadData(path,filec)"
   ]
  },
  {
   "cell_type": "code",
   "execution_count": 6,
   "metadata": {},
   "outputs": [],
   "source": [
    "data_z_v = pd.DataFrame(z_v)\n",
    "data_z_i = pd.DataFrame(z_i)"
   ]
  },
  {
   "cell_type": "code",
   "execution_count": 7,
   "metadata": {},
   "outputs": [
    {
     "data": {
      "text/html": [
       "<div>\n",
       "<style scoped>\n",
       "    .dataframe tbody tr th:only-of-type {\n",
       "        vertical-align: middle;\n",
       "    }\n",
       "\n",
       "    .dataframe tbody tr th {\n",
       "        vertical-align: top;\n",
       "    }\n",
       "\n",
       "    .dataframe thead th {\n",
       "        text-align: right;\n",
       "    }\n",
       "</style>\n",
       "<table border=\"1\" class=\"dataframe\">\n",
       "  <thead>\n",
       "    <tr style=\"text-align: right;\">\n",
       "      <th></th>\n",
       "      <th>quality</th>\n",
       "      <th>ts</th>\n",
       "      <th>value</th>\n",
       "    </tr>\n",
       "  </thead>\n",
       "  <tbody>\n",
       "    <tr>\n",
       "      <th>0</th>\n",
       "      <td>优</td>\n",
       "      <td>2018-04-14 08:00:00.132</td>\n",
       "      <td>1476.474609</td>\n",
       "    </tr>\n",
       "    <tr>\n",
       "      <th>1</th>\n",
       "      <td>优</td>\n",
       "      <td>2018-04-14 08:00:02.345</td>\n",
       "      <td>1536.604492</td>\n",
       "    </tr>\n",
       "    <tr>\n",
       "      <th>2</th>\n",
       "      <td>优</td>\n",
       "      <td>2018-04-14 08:00:04.530</td>\n",
       "      <td>1565.660034</td>\n",
       "    </tr>\n",
       "    <tr>\n",
       "      <th>3</th>\n",
       "      <td>优</td>\n",
       "      <td>2018-04-14 08:00:06.730</td>\n",
       "      <td>1511.235718</td>\n",
       "    </tr>\n",
       "    <tr>\n",
       "      <th>4</th>\n",
       "      <td>优</td>\n",
       "      <td>2018-04-14 08:00:08.929</td>\n",
       "      <td>1464.272949</td>\n",
       "    </tr>\n",
       "  </tbody>\n",
       "</table>\n",
       "</div>"
      ],
      "text/plain": [
       "  quality                       ts        value\n",
       "0       优  2018-04-14 08:00:00.132  1476.474609\n",
       "1       优  2018-04-14 08:00:02.345  1536.604492\n",
       "2       优  2018-04-14 08:00:04.530  1565.660034\n",
       "3       优  2018-04-14 08:00:06.730  1511.235718\n",
       "4       优  2018-04-14 08:00:08.929  1464.272949"
      ]
     },
     "execution_count": 7,
     "metadata": {},
     "output_type": "execute_result"
    }
   ],
   "source": [
    "data_z_v.head()"
   ]
  },
  {
   "cell_type": "code",
   "execution_count": 8,
   "metadata": {},
   "outputs": [
    {
     "data": {
      "text/html": [
       "<div>\n",
       "<style scoped>\n",
       "    .dataframe tbody tr th:only-of-type {\n",
       "        vertical-align: middle;\n",
       "    }\n",
       "\n",
       "    .dataframe tbody tr th {\n",
       "        vertical-align: top;\n",
       "    }\n",
       "\n",
       "    .dataframe thead th {\n",
       "        text-align: right;\n",
       "    }\n",
       "</style>\n",
       "<table border=\"1\" class=\"dataframe\">\n",
       "  <thead>\n",
       "    <tr style=\"text-align: right;\">\n",
       "      <th></th>\n",
       "      <th>quality</th>\n",
       "      <th>ts</th>\n",
       "      <th>value</th>\n",
       "    </tr>\n",
       "  </thead>\n",
       "  <tbody>\n",
       "    <tr>\n",
       "      <th>0</th>\n",
       "      <td>优</td>\n",
       "      <td>2018-04-14 08:00:02.345</td>\n",
       "      <td>98.890442</td>\n",
       "    </tr>\n",
       "    <tr>\n",
       "      <th>1</th>\n",
       "      <td>优</td>\n",
       "      <td>2018-04-14 08:00:04.530</td>\n",
       "      <td>93.553368</td>\n",
       "    </tr>\n",
       "    <tr>\n",
       "      <th>2</th>\n",
       "      <td>优</td>\n",
       "      <td>2018-04-14 08:00:06.730</td>\n",
       "      <td>94.150269</td>\n",
       "    </tr>\n",
       "    <tr>\n",
       "      <th>3</th>\n",
       "      <td>优</td>\n",
       "      <td>2018-04-14 08:00:08.929</td>\n",
       "      <td>97.914314</td>\n",
       "    </tr>\n",
       "    <tr>\n",
       "      <th>4</th>\n",
       "      <td>优</td>\n",
       "      <td>2018-04-14 08:00:11.144</td>\n",
       "      <td>100.021057</td>\n",
       "    </tr>\n",
       "  </tbody>\n",
       "</table>\n",
       "</div>"
      ],
      "text/plain": [
       "  quality                       ts       value\n",
       "0       优  2018-04-14 08:00:02.345   98.890442\n",
       "1       优  2018-04-14 08:00:04.530   93.553368\n",
       "2       优  2018-04-14 08:00:06.730   94.150269\n",
       "3       优  2018-04-14 08:00:08.929   97.914314\n",
       "4       优  2018-04-14 08:00:11.144  100.021057"
      ]
     },
     "execution_count": 8,
     "metadata": {},
     "output_type": "execute_result"
    }
   ],
   "source": [
    "data_z_i.head()"
   ]
  },
  {
   "cell_type": "code",
   "execution_count": 9,
   "metadata": {},
   "outputs": [],
   "source": [
    "data_l.value = pd.to_numeric(data_l.value, errors='ignore')\n",
    "data_z_v.value = pd.to_numeric(data_z_v.value,errors = 'ignore')\n",
    "data_z_i.value = pd.to_numeric(data_z_i.value,errors = 'ignore')\n",
    "\n",
    "data_l = data_l[data_l['value']> 0]\n",
    "data_z_i = data_z_i[data_z_i['value'] > 0]\n",
    "data_z_v = data_z_v[data_z_v['value'] > 0] "
   ]
  },
  {
   "cell_type": "code",
   "execution_count": 10,
   "metadata": {},
   "outputs": [
    {
     "data": {
      "text/plain": [
       "<matplotlib.axes._subplots.AxesSubplot at 0xf7be1630>"
      ]
     },
     "execution_count": 10,
     "metadata": {},
     "output_type": "execute_result"
    },
    {
     "data": {
      "image/png": "[encoded data removed]",
      "text/plain": [
       "<Figure size 432x288 with 1 Axes>"
      ]
     },
     "metadata": {
      "needs_background": "light"
     },
     "output_type": "display_data"
    }
   ],
   "source": [
    "data_l.plot()"
   ]
  },
  {
   "cell_type": "code",
   "execution_count": 11,
   "metadata": {},
   "outputs": [
    {
     "data": {
      "text/plain": [
       "<matplotlib.axes._subplots.AxesSubplot at 0x56a7a240>"
      ]
     },
     "execution_count": 11,
     "metadata": {},
     "output_type": "execute_result"
    },
    {
     "data": {
      "image/png": "[encoded data removed]",
      "text/plain": [
       "<Figure size 432x288 with 1 Axes>"
      ]
     },
     "metadata": {
      "needs_background": "light"
     },
     "output_type": "display_data"
    }
   ],
   "source": [
    "data_z_i.plot()"
   ]
  },
  {
   "cell_type": "code",
   "execution_count": 12,
   "metadata": {},
   "outputs": [
    {
     "data": {
      "text/plain": [
       "<matplotlib.axes._subplots.AxesSubplot at 0x56af9710>"
      ]
     },
     "execution_count": 12,
     "metadata": {},
     "output_type": "execute_result"
    },
    {
     "data": {
      "image/png": "[encoded data removed]",
      "text/plain": [
       "<Figure size 432x288 with 1 Axes>"
      ]
     },
     "metadata": {
      "needs_background": "light"
     },
     "output_type": "display_data"
    }
   ],
   "source": [
    "data_z_v.plot()"
   ]
  },
  {
   "cell_type": "code",
   "execution_count": 13,
   "metadata": {},
   "outputs": [],
   "source": [
    "new_ts_l = [data_l['ts'].iloc[i][0:13] for i in range(0,len(data_l))]\n",
    "new_ts_z_v = [data_z_v['ts'].iloc[i][0:13] for i in range(0,len(data_z_v))]\n",
    "new_ts_z_i = [data_z_i['ts'].iloc[i][0:13] for i in range(0,len(data_z_i))]"
   ]
  },
  {
   "cell_type": "code",
   "execution_count": 14,
   "metadata": {},
   "outputs": [],
   "source": [
    "data_l.drop('ts',axis=1, inplace=True)\n",
    "data_z_i.drop('ts',axis=1, inplace=True)\n",
    "data_z_v.drop('ts',axis=1, inplace=True)"
   ]
  },
  {
   "cell_type": "code",
   "execution_count": 15,
   "metadata": {},
   "outputs": [],
   "source": [
    "data_l.insert(1,'ts',new_ts_l)\n",
    "data_z_v.insert(1,'ts',new_ts_z_v)\n",
    "data_z_i.insert(1,'ts',new_ts_z_i)"
   ]
  },
  {
   "cell_type": "code",
   "execution_count": 16,
   "metadata": {},
   "outputs": [],
   "source": [
    "grouped_l = data_l['value'].groupby(data_l['ts'])\n",
    "grouped_z_v = data_z_v['value'].groupby(data_z_v['ts'])\n",
    "grouped_z_i = data_z_i['value'].groupby(data_z_i['ts']) "
   ]
  },
  {
   "cell_type": "code",
   "execution_count": 17,
   "metadata": {},
   "outputs": [],
   "source": [
    "d1 = grouped_l.mean()\n",
    "d2 = grouped_z_v.mean()\n",
    "d3 = grouped_z_i.mean()"
   ]
  },
  {
   "cell_type": "code",
   "execution_count": 18,
   "metadata": {},
   "outputs": [],
   "source": [
    "d1 = pd.DataFrame(d1)\n",
    "d2 = pd.DataFrame(d2)\n",
    "d3 = pd.DataFrame(d3)"
   ]
  },
  {
   "cell_type": "code",
   "execution_count": 19,
   "metadata": {},
   "outputs": [],
   "source": [
    "data_2_3 = pd.merge(d2,d3,left_index= True, right_index=True)"
   ]
  },
  {
   "cell_type": "code",
   "execution_count": 20,
   "metadata": {},
   "outputs": [],
   "source": [
    "data_all =  pd.merge(d1,data_2_3,left_index= True, right_index=True)"
   ]
  },
  {
   "cell_type": "code",
   "execution_count": 21,
   "metadata": {
    "scrolled": true
   },
   "outputs": [
    {
     "data": {
      "text/html": [
       "<div>\n",
       "<style scoped>\n",
       "    .dataframe tbody tr th:only-of-type {\n",
       "        vertical-align: middle;\n",
       "    }\n",
       "\n",
       "    .dataframe tbody tr th {\n",
       "        vertical-align: top;\n",
       "    }\n",
       "\n",
       "    .dataframe thead th {\n",
       "        text-align: right;\n",
       "    }\n",
       "</style>\n",
       "<table border=\"1\" class=\"dataframe\">\n",
       "  <thead>\n",
       "    <tr style=\"text-align: right;\">\n",
       "      <th></th>\n",
       "      <th>value</th>\n",
       "      <th>value_x</th>\n",
       "      <th>value_y</th>\n",
       "    </tr>\n",
       "    <tr>\n",
       "      <th>ts</th>\n",
       "      <th></th>\n",
       "      <th></th>\n",
       "      <th></th>\n",
       "    </tr>\n",
       "  </thead>\n",
       "  <tbody>\n",
       "    <tr>\n",
       "      <th>2018-04-14 08</th>\n",
       "      <td>380.708032</td>\n",
       "      <td>1367.631949</td>\n",
       "      <td>107.966218</td>\n",
       "    </tr>\n",
       "    <tr>\n",
       "      <th>2018-04-14 09</th>\n",
       "      <td>381.223213</td>\n",
       "      <td>1366.662574</td>\n",
       "      <td>107.920557</td>\n",
       "    </tr>\n",
       "    <tr>\n",
       "      <th>2018-04-14 10</th>\n",
       "      <td>385.693365</td>\n",
       "      <td>1379.852585</td>\n",
       "      <td>108.171640</td>\n",
       "    </tr>\n",
       "    <tr>\n",
       "      <th>2018-04-14 11</th>\n",
       "      <td>385.703400</td>\n",
       "      <td>1384.990247</td>\n",
       "      <td>107.961438</td>\n",
       "    </tr>\n",
       "    <tr>\n",
       "      <th>2018-04-14 12</th>\n",
       "      <td>385.692146</td>\n",
       "      <td>1393.209539</td>\n",
       "      <td>108.024603</td>\n",
       "    </tr>\n",
       "    <tr>\n",
       "      <th>2018-04-14 13</th>\n",
       "      <td>385.694467</td>\n",
       "      <td>1389.895341</td>\n",
       "      <td>107.841386</td>\n",
       "    </tr>\n",
       "    <tr>\n",
       "      <th>2018-04-14 14</th>\n",
       "      <td>385.705709</td>\n",
       "      <td>1384.733584</td>\n",
       "      <td>108.201135</td>\n",
       "    </tr>\n",
       "    <tr>\n",
       "      <th>2018-04-14 15</th>\n",
       "      <td>385.681199</td>\n",
       "      <td>1392.814324</td>\n",
       "      <td>108.045986</td>\n",
       "    </tr>\n",
       "    <tr>\n",
       "      <th>2018-04-14 16</th>\n",
       "      <td>385.692206</td>\n",
       "      <td>1390.961967</td>\n",
       "      <td>108.118670</td>\n",
       "    </tr>\n",
       "    <tr>\n",
       "      <th>2018-04-14 17</th>\n",
       "      <td>385.704241</td>\n",
       "      <td>1386.156036</td>\n",
       "      <td>108.154445</td>\n",
       "    </tr>\n",
       "    <tr>\n",
       "      <th>2018-04-14 18</th>\n",
       "      <td>385.700448</td>\n",
       "      <td>1386.530576</td>\n",
       "      <td>108.284324</td>\n",
       "    </tr>\n",
       "    <tr>\n",
       "      <th>2018-04-14 19</th>\n",
       "      <td>385.684028</td>\n",
       "      <td>1398.068945</td>\n",
       "      <td>107.905298</td>\n",
       "    </tr>\n",
       "    <tr>\n",
       "      <th>2018-04-14 20</th>\n",
       "      <td>385.659368</td>\n",
       "      <td>1398.429912</td>\n",
       "      <td>107.840598</td>\n",
       "    </tr>\n",
       "    <tr>\n",
       "      <th>2018-04-14 21</th>\n",
       "      <td>385.693845</td>\n",
       "      <td>1386.679322</td>\n",
       "      <td>108.044907</td>\n",
       "    </tr>\n",
       "    <tr>\n",
       "      <th>2018-04-14 22</th>\n",
       "      <td>385.684890</td>\n",
       "      <td>1390.050953</td>\n",
       "      <td>108.228753</td>\n",
       "    </tr>\n",
       "    <tr>\n",
       "      <th>2018-04-14 23</th>\n",
       "      <td>385.682368</td>\n",
       "      <td>1393.772514</td>\n",
       "      <td>107.652743</td>\n",
       "    </tr>\n",
       "    <tr>\n",
       "      <th>2018-04-15 00</th>\n",
       "      <td>385.680443</td>\n",
       "      <td>1387.942090</td>\n",
       "      <td>108.188389</td>\n",
       "    </tr>\n",
       "    <tr>\n",
       "      <th>2018-04-15 01</th>\n",
       "      <td>385.684071</td>\n",
       "      <td>1389.918253</td>\n",
       "      <td>108.036134</td>\n",
       "    </tr>\n",
       "    <tr>\n",
       "      <th>2018-04-15 02</th>\n",
       "      <td>385.695657</td>\n",
       "      <td>1386.082967</td>\n",
       "      <td>108.108792</td>\n",
       "    </tr>\n",
       "    <tr>\n",
       "      <th>2018-04-15 03</th>\n",
       "      <td>385.685206</td>\n",
       "      <td>1388.735689</td>\n",
       "      <td>107.976771</td>\n",
       "    </tr>\n",
       "    <tr>\n",
       "      <th>2018-04-15 04</th>\n",
       "      <td>385.681529</td>\n",
       "      <td>1391.216222</td>\n",
       "      <td>107.760275</td>\n",
       "    </tr>\n",
       "    <tr>\n",
       "      <th>2018-04-15 05</th>\n",
       "      <td>385.693550</td>\n",
       "      <td>1385.321989</td>\n",
       "      <td>108.064673</td>\n",
       "    </tr>\n",
       "    <tr>\n",
       "      <th>2018-04-15 06</th>\n",
       "      <td>385.704595</td>\n",
       "      <td>1386.661623</td>\n",
       "      <td>108.076095</td>\n",
       "    </tr>\n",
       "    <tr>\n",
       "      <th>2018-04-15 07</th>\n",
       "      <td>385.700864</td>\n",
       "      <td>1391.080036</td>\n",
       "      <td>107.808092</td>\n",
       "    </tr>\n",
       "    <tr>\n",
       "      <th>2018-04-15 08</th>\n",
       "      <td>385.720122</td>\n",
       "      <td>1381.499219</td>\n",
       "      <td>108.226019</td>\n",
       "    </tr>\n",
       "    <tr>\n",
       "      <th>2018-04-15 09</th>\n",
       "      <td>385.704468</td>\n",
       "      <td>1389.944719</td>\n",
       "      <td>107.699375</td>\n",
       "    </tr>\n",
       "    <tr>\n",
       "      <th>2018-04-15 10</th>\n",
       "      <td>381.652189</td>\n",
       "      <td>1369.071712</td>\n",
       "      <td>108.139655</td>\n",
       "    </tr>\n",
       "    <tr>\n",
       "      <th>2018-04-15 11</th>\n",
       "      <td>382.552524</td>\n",
       "      <td>1374.759230</td>\n",
       "      <td>107.932306</td>\n",
       "    </tr>\n",
       "    <tr>\n",
       "      <th>2018-04-15 12</th>\n",
       "      <td>385.704236</td>\n",
       "      <td>1385.505258</td>\n",
       "      <td>108.091809</td>\n",
       "    </tr>\n",
       "    <tr>\n",
       "      <th>2018-04-15 13</th>\n",
       "      <td>385.715532</td>\n",
       "      <td>1380.141923</td>\n",
       "      <td>108.193263</td>\n",
       "    </tr>\n",
       "    <tr>\n",
       "      <th>...</th>\n",
       "      <td>...</td>\n",
       "      <td>...</td>\n",
       "      <td>...</td>\n",
       "    </tr>\n",
       "    <tr>\n",
       "      <th>2018-07-20 02</th>\n",
       "      <td>422.754841</td>\n",
       "      <td>1512.039263</td>\n",
       "      <td>108.132510</td>\n",
       "    </tr>\n",
       "    <tr>\n",
       "      <th>2018-07-20 03</th>\n",
       "      <td>422.928911</td>\n",
       "      <td>1511.927360</td>\n",
       "      <td>108.102709</td>\n",
       "    </tr>\n",
       "    <tr>\n",
       "      <th>2018-07-20 04</th>\n",
       "      <td>422.979177</td>\n",
       "      <td>1511.107367</td>\n",
       "      <td>108.075025</td>\n",
       "    </tr>\n",
       "    <tr>\n",
       "      <th>2018-07-20 05</th>\n",
       "      <td>419.688463</td>\n",
       "      <td>1498.472440</td>\n",
       "      <td>108.284139</td>\n",
       "    </tr>\n",
       "    <tr>\n",
       "      <th>2018-07-20 06</th>\n",
       "      <td>417.217312</td>\n",
       "      <td>1490.150913</td>\n",
       "      <td>108.189481</td>\n",
       "    </tr>\n",
       "    <tr>\n",
       "      <th>2018-07-20 07</th>\n",
       "      <td>420.177028</td>\n",
       "      <td>1500.495637</td>\n",
       "      <td>108.189856</td>\n",
       "    </tr>\n",
       "    <tr>\n",
       "      <th>2018-07-20 08</th>\n",
       "      <td>420.433802</td>\n",
       "      <td>1503.910136</td>\n",
       "      <td>108.148748</td>\n",
       "    </tr>\n",
       "    <tr>\n",
       "      <th>2018-07-20 09</th>\n",
       "      <td>415.757221</td>\n",
       "      <td>1486.276840</td>\n",
       "      <td>108.201671</td>\n",
       "    </tr>\n",
       "    <tr>\n",
       "      <th>2018-07-20 10</th>\n",
       "      <td>414.786320</td>\n",
       "      <td>1484.859094</td>\n",
       "      <td>108.182570</td>\n",
       "    </tr>\n",
       "    <tr>\n",
       "      <th>2018-07-20 11</th>\n",
       "      <td>412.939426</td>\n",
       "      <td>1478.774616</td>\n",
       "      <td>108.264789</td>\n",
       "    </tr>\n",
       "    <tr>\n",
       "      <th>2018-07-20 12</th>\n",
       "      <td>415.749174</td>\n",
       "      <td>1488.623811</td>\n",
       "      <td>108.147701</td>\n",
       "    </tr>\n",
       "    <tr>\n",
       "      <th>2018-07-20 13</th>\n",
       "      <td>415.759021</td>\n",
       "      <td>1488.141482</td>\n",
       "      <td>108.070851</td>\n",
       "    </tr>\n",
       "    <tr>\n",
       "      <th>2018-07-20 14</th>\n",
       "      <td>415.759798</td>\n",
       "      <td>1488.968859</td>\n",
       "      <td>108.151007</td>\n",
       "    </tr>\n",
       "    <tr>\n",
       "      <th>2018-07-20 15</th>\n",
       "      <td>415.748248</td>\n",
       "      <td>1488.685431</td>\n",
       "      <td>108.190420</td>\n",
       "    </tr>\n",
       "    <tr>\n",
       "      <th>2018-07-20 16</th>\n",
       "      <td>415.742434</td>\n",
       "      <td>1490.142373</td>\n",
       "      <td>108.308288</td>\n",
       "    </tr>\n",
       "    <tr>\n",
       "      <th>2018-07-20 17</th>\n",
       "      <td>420.015132</td>\n",
       "      <td>1505.219590</td>\n",
       "      <td>108.021352</td>\n",
       "    </tr>\n",
       "    <tr>\n",
       "      <th>2018-07-20 18</th>\n",
       "      <td>420.774128</td>\n",
       "      <td>1503.190103</td>\n",
       "      <td>108.374393</td>\n",
       "    </tr>\n",
       "    <tr>\n",
       "      <th>2018-07-20 19</th>\n",
       "      <td>420.433405</td>\n",
       "      <td>1505.296377</td>\n",
       "      <td>107.956324</td>\n",
       "    </tr>\n",
       "    <tr>\n",
       "      <th>2018-07-20 20</th>\n",
       "      <td>420.777505</td>\n",
       "      <td>1504.630890</td>\n",
       "      <td>108.125683</td>\n",
       "    </tr>\n",
       "    <tr>\n",
       "      <th>2018-07-20 21</th>\n",
       "      <td>420.778648</td>\n",
       "      <td>1503.976937</td>\n",
       "      <td>108.268619</td>\n",
       "    </tr>\n",
       "    <tr>\n",
       "      <th>2018-07-20 22</th>\n",
       "      <td>420.781784</td>\n",
       "      <td>1504.353192</td>\n",
       "      <td>108.151218</td>\n",
       "    </tr>\n",
       "    <tr>\n",
       "      <th>2018-07-20 23</th>\n",
       "      <td>420.210347</td>\n",
       "      <td>1499.925897</td>\n",
       "      <td>108.270328</td>\n",
       "    </tr>\n",
       "    <tr>\n",
       "      <th>2018-07-21 00</th>\n",
       "      <td>417.917581</td>\n",
       "      <td>1492.170532</td>\n",
       "      <td>108.203253</td>\n",
       "    </tr>\n",
       "    <tr>\n",
       "      <th>2018-07-21 01</th>\n",
       "      <td>418.789575</td>\n",
       "      <td>1497.563811</td>\n",
       "      <td>108.046402</td>\n",
       "    </tr>\n",
       "    <tr>\n",
       "      <th>2018-07-21 02</th>\n",
       "      <td>418.785529</td>\n",
       "      <td>1495.141180</td>\n",
       "      <td>108.222137</td>\n",
       "    </tr>\n",
       "    <tr>\n",
       "      <th>2018-07-21 03</th>\n",
       "      <td>414.423947</td>\n",
       "      <td>1479.208872</td>\n",
       "      <td>108.288141</td>\n",
       "    </tr>\n",
       "    <tr>\n",
       "      <th>2018-07-21 04</th>\n",
       "      <td>416.557571</td>\n",
       "      <td>1488.344347</td>\n",
       "      <td>108.144740</td>\n",
       "    </tr>\n",
       "    <tr>\n",
       "      <th>2018-07-21 05</th>\n",
       "      <td>420.526800</td>\n",
       "      <td>1503.704989</td>\n",
       "      <td>108.033541</td>\n",
       "    </tr>\n",
       "    <tr>\n",
       "      <th>2018-07-21 06</th>\n",
       "      <td>420.781958</td>\n",
       "      <td>1501.726945</td>\n",
       "      <td>108.258628</td>\n",
       "    </tr>\n",
       "    <tr>\n",
       "      <th>2018-07-21 07</th>\n",
       "      <td>384.591369</td>\n",
       "      <td>1372.205065</td>\n",
       "      <td>108.293428</td>\n",
       "    </tr>\n",
       "  </tbody>\n",
       "</table>\n",
       "<p>2034 rows × 3 columns</p>\n",
       "</div>"
      ],
      "text/plain": [
       "                    value      value_x     value_y\n",
       "ts                                                \n",
       "2018-04-14 08  380.708032  1367.631949  107.966218\n",
       "2018-04-14 09  381.223213  1366.662574  107.920557\n",
       "2018-04-14 10  385.693365  1379.852585  108.171640\n",
       "2018-04-14 11  385.703400  1384.990247  107.961438\n",
       "2018-04-14 12  385.692146  1393.209539  108.024603\n",
       "2018-04-14 13  385.694467  1389.895341  107.841386\n",
       "2018-04-14 14  385.705709  1384.733584  108.201135\n",
       "2018-04-14 15  385.681199  1392.814324  108.045986\n",
       "2018-04-14 16  385.692206  1390.961967  108.118670\n",
       "2018-04-14 17  385.704241  1386.156036  108.154445\n",
       "2018-04-14 18  385.700448  1386.530576  108.284324\n",
       "2018-04-14 19  385.684028  1398.068945  107.905298\n",
       "2018-04-14 20  385.659368  1398.429912  107.840598\n",
       "2018-04-14 21  385.693845  1386.679322  108.044907\n",
       "2018-04-14 22  385.684890  1390.050953  108.228753\n",
       "2018-04-14 23  385.682368  1393.772514  107.652743\n",
       "2018-04-15 00  385.680443  1387.942090  108.188389\n",
       "2018-04-15 01  385.684071  1389.918253  108.036134\n",
       "2018-04-15 02  385.695657  1386.082967  108.108792\n",
       "2018-04-15 03  385.685206  1388.735689  107.976771\n",
       "2018-04-15 04  385.681529  1391.216222  107.760275\n",
       "2018-04-15 05  385.693550  1385.321989  108.064673\n",
       "2018-04-15 06  385.704595  1386.661623  108.076095\n",
       "2018-04-15 07  385.700864  1391.080036  107.808092\n",
       "2018-04-15 08  385.720122  1381.499219  108.226019\n",
       "2018-04-15 09  385.704468  1389.944719  107.699375\n",
       "2018-04-15 10  381.652189  1369.071712  108.139655\n",
       "2018-04-15 11  382.552524  1374.759230  107.932306\n",
       "2018-04-15 12  385.704236  1385.505258  108.091809\n",
       "2018-04-15 13  385.715532  1380.141923  108.193263\n",
       "...                   ...          ...         ...\n",
       "2018-07-20 02  422.754841  1512.039263  108.132510\n",
       "2018-07-20 03  422.928911  1511.927360  108.102709\n",
       "2018-07-20 04  422.979177  1511.107367  108.075025\n",
       "2018-07-20 05  419.688463  1498.472440  108.284139\n",
       "2018-07-20 06  417.217312  1490.150913  108.189481\n",
       "2018-07-20 07  420.177028  1500.495637  108.189856\n",
       "2018-07-20 08  420.433802  1503.910136  108.148748\n",
       "2018-07-20 09  415.757221  1486.276840  108.201671\n",
       "2018-07-20 10  414.786320  1484.859094  108.182570\n",
       "2018-07-20 11  412.939426  1478.774616  108.264789\n",
       "2018-07-20 12  415.749174  1488.623811  108.147701\n",
       "2018-07-20 13  415.759021  1488.141482  108.070851\n",
       "2018-07-20 14  415.759798  1488.968859  108.151007\n",
       "2018-07-20 15  415.748248  1488.685431  108.190420\n",
       "2018-07-20 16  415.742434  1490.142373  108.308288\n",
       "2018-07-20 17  420.015132  1505.219590  108.021352\n",
       "2018-07-20 18  420.774128  1503.190103  108.374393\n",
       "2018-07-20 19  420.433405  1505.296377  107.956324\n",
       "2018-07-20 20  420.777505  1504.630890  108.125683\n",
       "2018-07-20 21  420.778648  1503.976937  108.268619\n",
       "2018-07-20 22  420.781784  1504.353192  108.151218\n",
       "2018-07-20 23  420.210347  1499.925897  108.270328\n",
       "2018-07-21 00  417.917581  1492.170532  108.203253\n",
       "2018-07-21 01  418.789575  1497.563811  108.046402\n",
       "2018-07-21 02  418.785529  1495.141180  108.222137\n",
       "2018-07-21 03  414.423947  1479.208872  108.288141\n",
       "2018-07-21 04  416.557571  1488.344347  108.144740\n",
       "2018-07-21 05  420.526800  1503.704989  108.033541\n",
       "2018-07-21 06  420.781958  1501.726945  108.258628\n",
       "2018-07-21 07  384.591369  1372.205065  108.293428\n",
       "\n",
       "[2034 rows x 3 columns]"
      ]
     },
     "execution_count": 21,
     "metadata": {},
     "output_type": "execute_result"
    }
   ],
   "source": [
    "data_all"
   ]
  },
  {
   "cell_type": "code",
   "execution_count": 22,
   "metadata": {},
   "outputs": [],
   "source": [
    "mul = data_all.value_x * data_all.value_y\n",
    "mul = pd.DataFrame(mul)"
   ]
  },
  {
   "cell_type": "code",
   "execution_count": 23,
   "metadata": {},
   "outputs": [],
   "source": [
    "data_all.insert(1,'multiply',mul)"
   ]
  },
  {
   "cell_type": "code",
   "execution_count": 24,
   "metadata": {
    "scrolled": true
   },
   "outputs": [
    {
     "data": {
      "text/plain": [
       "ts\n",
       "2018-04-14 08    147658.049531\n",
       "2018-04-14 09    147490.986408\n",
       "2018-04-14 10    149260.916494\n",
       "2018-04-14 11    149525.539124\n",
       "2018-04-14 12    150500.907272\n",
       "2018-04-14 13    149888.240485\n",
       "2018-04-14 14    149829.745160\n",
       "2018-04-14 15    150487.996772\n",
       "2018-04-14 16    150388.957787\n",
       "2018-04-14 17    149918.936804\n",
       "2018-04-14 18    150139.526793\n",
       "2018-04-14 19    150859.046550\n",
       "2018-04-14 20    150807.517737\n",
       "2018-04-14 21    149823.638373\n",
       "2018-04-14 22    150443.481565\n",
       "2018-04-14 23    150043.434633\n",
       "2018-04-15 00    150159.218547\n",
       "2018-04-15 01    150161.394709\n",
       "2018-04-15 02    149847.755388\n",
       "2018-04-15 03    149951.194850\n",
       "2018-04-15 04    149917.841974\n",
       "2018-04-15 05    149704.367409\n",
       "2018-04-15 06    149864.972748\n",
       "2018-04-15 07    149969.684254\n",
       "2018-04-15 08    149514.160270\n",
       "2018-04-15 09    149696.177824\n",
       "2018-04-15 10    148050.942737\n",
       "2018-04-15 11    148380.933494\n",
       "2018-04-15 12    149761.769653\n",
       "2018-04-15 13    149322.057416\n",
       "                     ...      \n",
       "2018-07-20 02    163500.600365\n",
       "2018-07-20 03    163443.443896\n",
       "2018-07-20 04    163312.965932\n",
       "2018-07-20 05    162260.798377\n",
       "2018-07-20 06    161218.653881\n",
       "2018-07-20 07    162338.406283\n",
       "2018-07-20 08    162645.998874\n",
       "2018-07-20 09    160817.637638\n",
       "2018-07-20 10    160635.873261\n",
       "2018-07-20 11    160099.222155\n",
       "2018-07-20 12    160991.242601\n",
       "2018-07-20 13    160824.716638\n",
       "2018-07-20 14    161033.481240\n",
       "2018-07-20 15    161061.502162\n",
       "2018-07-20 16    161394.768787\n",
       "2018-07-20 17    162595.854441\n",
       "2018-07-20 18    162907.315034\n",
       "2018-07-20 19    162506.263927\n",
       "2018-07-20 20    162689.242727\n",
       "2018-07-20 21    162833.505640\n",
       "2018-07-20 22    162697.630516\n",
       "2018-07-20 23    162397.468839\n",
       "2018-07-21 00    161457.705898\n",
       "2018-07-21 01    161806.381365\n",
       "2018-07-21 02    161807.373917\n",
       "2018-07-21 03    160180.778635\n",
       "2018-07-21 04    160956.612721\n",
       "2018-07-21 05    162450.574055\n",
       "2018-07-21 06    162574.898217\n",
       "2018-07-21 07    148600.790147\n",
       "Name: multiply, Length: 2034, dtype: float64"
      ]
     },
     "execution_count": 24,
     "metadata": {},
     "output_type": "execute_result"
    }
   ],
   "source": [
    "data_all['multiply']"
   ]
  },
  {
   "cell_type": "code",
   "execution_count": 25,
   "metadata": {},
   "outputs": [
    {
     "data": {
      "text/plain": [
       "Text(0, 0.5, 'F_1_L23.I_T5202F02_2_mean_value')"
      ]
     },
     "execution_count": 25,
     "metadata": {},
     "output_type": "execute_result"
    },
    {
     "data": {
      "image/png": "[encoded data removed]",
      "text/plain": [
       "<Figure size 432x288 with 1 Axes>"
      ]
     },
     "metadata": {
      "needs_background": "light"
     },
     "output_type": "display_data"
    }
   ],
   "source": [
    "#流量与转速 * 负荷反馈\n",
    "import numpy as np\n",
    "c=np.random.randint(0,10,len(data_all))\n",
    "plt.scatter(data_all['multiply'],data_all['value'],c = c,marker = 'o')\n",
    "plt.xlabel('multipy_value')\n",
    "plt.ylabel('F_1_L23.I_T5202F02_2_mean_value')"
   ]
  },
  {
   "cell_type": "code",
   "execution_count": 26,
   "metadata": {},
   "outputs": [
    {
     "data": {
      "text/plain": [
       "Text(0, 0.5, 'F_1_L23.I_T5202F02_2_mean_value')"
      ]
     },
     "execution_count": 26,
     "metadata": {},
     "output_type": "execute_result"
    },
    {
     "data": {
      "image/png": "[encoded data removed]",
      "text/plain": [
       "<Figure size 432x288 with 1 Axes>"
      ]
     },
     "metadata": {
      "needs_background": "light"
     },
     "output_type": "display_data"
    }
   ],
   "source": [
    "#流量与转速结果反馈\n",
    "import numpy as np\n",
    "c=np.random.randint(0,10,len(data_all))\n",
    "plt.scatter(data_all['value_x'],data_all['value'],c = c,marker = 'o')\n",
    "plt.xlabel('F_1_L23.I_T5202F02_2S01_mean_value')\n",
    "plt.ylabel('F_1_L23.I_T5202F02_2_mean_value')"
   ]
  },
  {
   "cell_type": "code",
   "execution_count": 27,
   "metadata": {},
   "outputs": [
    {
     "data": {
      "text/plain": [
       "Text(0, 0.5, 'F_1_L23.I_T5202F02_2_mean_value')"
      ]
     },
     "execution_count": 27,
     "metadata": {},
     "output_type": "execute_result"
    },
    {
     "data": {
      "image/png": "[encoded data removed]",
      "text/plain": [
       "<Figure size 432x288 with 1 Axes>"
      ]
     },
     "metadata": {
      "needs_background": "light"
     },
     "output_type": "display_data"
    }
   ],
   "source": [
    "#流量和负荷的反馈\n",
    "import numpy as np\n",
    "c=np.random.randint(0,10,len(data_all))\n",
    "plt.scatter(data_all['value_y'],data_all['value'],c = c,marker = 'o')\n",
    "plt.xlabel('F_1_L23.I_T5202F02_2I')\n",
    "plt.ylabel('F_1_L23.I_T5202F02_2_mean_value')"
   ]
  },
  {
   "cell_type": "code",
   "execution_count": null,
   "metadata": {},
   "outputs": [],
   "source": []
  }
 ],
 "metadata": {
  "kernelspec": {
   "display_name": "Python 3",
   "language": "python",
   "name": "python3"
  },
  "language_info": {
   "codemirror_mode": {
    "name": "ipython",
    "version": 3
   },
   "file_extension": ".py",
   "mimetype": "text/x-python",
   "name": "python",
   "nbconvert_exporter": "python",
   "pygments_lexer": "ipython3",
   "version": "3.7.1"
  }
 },
 "nbformat": 4,
 "nbformat_minor": 2
}
