{
 "cells": [
  {
   "cell_type": "code",
   "execution_count": 1,
   "metadata": {
    "scrolled": false
   },
   "outputs": [],
   "source": [
    "import json\n",
    "import pandas as pd\n",
    "import matplotlib.pyplot as plt\n",
    "import os\n",
    "%matplotlib inline\n",
    "#path = './data/line_1/20180414/20180414_F_1_L1.I_5209MI.txt'\n",
    "#path = './data/line_1/20180414/20180414_F_1_L1.I_5209bMI.txt'\n",
    "path = '../data/line_4/'\n",
    "file = 'F_2_L45.I_S5209MI'\n",
    "fileb = 'F_2_L45.I_S5209bMI'\n",
    "def loadData(path,file_name):\n",
    "    alldata = []\n",
    "    for i in os.listdir('../data/line_4'):\n",
    "        \n",
    "        path2 = path + i + '/' + i + '_' + file_name + '.txt'\n",
    "        print(path2)\n",
    "        f = open(path2) \n",
    "        data = json.load(f)\n",
    "        alldata.extend(data[file_name])\n",
    "    return alldata"
   ]
  },
  {
   "cell_type": "code",
   "execution_count": 2,
   "metadata": {
    "scrolled": true
   },
   "outputs": [
    {
     "name": "stdout",
     "output_type": "stream",
     "text": [
      "../data/line_4/20180414/20180414_F_2_L45.I_S5209MI.txt\n",
      "../data/line_4/20180421/20180421_F_2_L45.I_S5209MI.txt\n",
      "../data/line_4/20180428/20180428_F_2_L45.I_S5209MI.txt\n",
      "../data/line_4/20180505/20180505_F_2_L45.I_S5209MI.txt\n",
      "../data/line_4/20180512/20180512_F_2_L45.I_S5209MI.txt\n",
      "../data/line_4/20180519/20180519_F_2_L45.I_S5209MI.txt\n",
      "../data/line_4/20180526/20180526_F_2_L45.I_S5209MI.txt\n",
      "../data/line_4/20180602/20180602_F_2_L45.I_S5209MI.txt\n",
      "../data/line_4/20180609/20180609_F_2_L45.I_S5209MI.txt\n",
      "../data/line_4/20180616/20180616_F_2_L45.I_S5209MI.txt\n",
      "../data/line_4/20180623/20180623_F_2_L45.I_S5209MI.txt\n",
      "../data/line_4/20180630/20180630_F_2_L45.I_S5209MI.txt\n",
      "../data/line_4/20180707/20180707_F_2_L45.I_S5209MI.txt\n",
      "../data/line_4/20180714/20180714_F_2_L45.I_S5209MI.txt\n"
     ]
    }
   ],
   "source": [
    "t = loadData(path,file)"
   ]
  },
  {
   "cell_type": "code",
   "execution_count": 3,
   "metadata": {
    "scrolled": true
   },
   "outputs": [
    {
     "name": "stdout",
     "output_type": "stream",
     "text": [
      "../data/line_4/20180414/20180414_F_2_L45.I_S5209bMI.txt\n",
      "../data/line_4/20180421/20180421_F_2_L45.I_S5209bMI.txt\n",
      "../data/line_4/20180428/20180428_F_2_L45.I_S5209bMI.txt\n",
      "../data/line_4/20180505/20180505_F_2_L45.I_S5209bMI.txt\n",
      "../data/line_4/20180512/20180512_F_2_L45.I_S5209bMI.txt\n",
      "../data/line_4/20180519/20180519_F_2_L45.I_S5209bMI.txt\n",
      "../data/line_4/20180526/20180526_F_2_L45.I_S5209bMI.txt\n",
      "../data/line_4/20180602/20180602_F_2_L45.I_S5209bMI.txt\n",
      "../data/line_4/20180609/20180609_F_2_L45.I_S5209bMI.txt\n",
      "../data/line_4/20180616/20180616_F_2_L45.I_S5209bMI.txt\n",
      "../data/line_4/20180623/20180623_F_2_L45.I_S5209bMI.txt\n",
      "../data/line_4/20180630/20180630_F_2_L45.I_S5209bMI.txt\n",
      "../data/line_4/20180707/20180707_F_2_L45.I_S5209bMI.txt\n",
      "../data/line_4/20180714/20180714_F_2_L45.I_S5209bMI.txt\n"
     ]
    }
   ],
   "source": [
    "tb = loadData(path,fileb)"
   ]
  },
  {
   "cell_type": "code",
   "execution_count": 4,
   "metadata": {},
   "outputs": [
    {
     "name": "stdout",
     "output_type": "stream",
     "text": [
      "1963210\n",
      "2002775\n"
     ]
    }
   ],
   "source": [
    "print(len(t))\n",
    "print(len(tb))"
   ]
  },
  {
   "cell_type": "code",
   "execution_count": 5,
   "metadata": {
    "scrolled": true
   },
   "outputs": [],
   "source": [
    "data = pd.DataFrame(t)\n",
    "datab = pd.DataFrame(tb)"
   ]
  },
  {
   "cell_type": "code",
   "execution_count": 6,
   "metadata": {},
   "outputs": [
    {
     "data": {
      "text/html": [
       "<div>\n",
       "<style scoped>\n",
       "    .dataframe tbody tr th:only-of-type {\n",
       "        vertical-align: middle;\n",
       "    }\n",
       "\n",
       "    .dataframe tbody tr th {\n",
       "        vertical-align: top;\n",
       "    }\n",
       "\n",
       "    .dataframe thead th {\n",
       "        text-align: right;\n",
       "    }\n",
       "</style>\n",
       "<table border=\"1\" class=\"dataframe\">\n",
       "  <thead>\n",
       "    <tr style=\"text-align: right;\">\n",
       "      <th></th>\n",
       "      <th>quality</th>\n",
       "      <th>ts</th>\n",
       "      <th>value</th>\n",
       "    </tr>\n",
       "  </thead>\n",
       "  <tbody>\n",
       "    <tr>\n",
       "      <th>0</th>\n",
       "      <td>优</td>\n",
       "      <td>2018-04-14 08:00:00.501</td>\n",
       "      <td>130.259827</td>\n",
       "    </tr>\n",
       "    <tr>\n",
       "      <th>1</th>\n",
       "      <td>优</td>\n",
       "      <td>2018-04-14 08:00:03.058</td>\n",
       "      <td>128.563889</td>\n",
       "    </tr>\n",
       "    <tr>\n",
       "      <th>2</th>\n",
       "      <td>优</td>\n",
       "      <td>2018-04-14 08:00:04.372</td>\n",
       "      <td>128.679764</td>\n",
       "    </tr>\n",
       "    <tr>\n",
       "      <th>3</th>\n",
       "      <td>优</td>\n",
       "      <td>2018-04-14 08:00:08.237</td>\n",
       "      <td>128.563889</td>\n",
       "    </tr>\n",
       "    <tr>\n",
       "      <th>4</th>\n",
       "      <td>优</td>\n",
       "      <td>2018-04-14 08:00:10.822</td>\n",
       "      <td>128.679764</td>\n",
       "    </tr>\n",
       "  </tbody>\n",
       "</table>\n",
       "</div>"
      ],
      "text/plain": [
       "  quality                       ts       value\n",
       "0       优  2018-04-14 08:00:00.501  130.259827\n",
       "1       优  2018-04-14 08:00:03.058  128.563889\n",
       "2       优  2018-04-14 08:00:04.372  128.679764\n",
       "3       优  2018-04-14 08:00:08.237  128.563889\n",
       "4       优  2018-04-14 08:00:10.822  128.679764"
      ]
     },
     "execution_count": 6,
     "metadata": {},
     "output_type": "execute_result"
    }
   ],
   "source": [
    "data.head()"
   ]
  },
  {
   "cell_type": "code",
   "execution_count": 7,
   "metadata": {},
   "outputs": [
    {
     "data": {
      "text/html": [
       "<div>\n",
       "<style scoped>\n",
       "    .dataframe tbody tr th:only-of-type {\n",
       "        vertical-align: middle;\n",
       "    }\n",
       "\n",
       "    .dataframe tbody tr th {\n",
       "        vertical-align: top;\n",
       "    }\n",
       "\n",
       "    .dataframe thead th {\n",
       "        text-align: right;\n",
       "    }\n",
       "</style>\n",
       "<table border=\"1\" class=\"dataframe\">\n",
       "  <thead>\n",
       "    <tr style=\"text-align: right;\">\n",
       "      <th></th>\n",
       "      <th>quality</th>\n",
       "      <th>ts</th>\n",
       "      <th>value</th>\n",
       "    </tr>\n",
       "  </thead>\n",
       "  <tbody>\n",
       "    <tr>\n",
       "      <th>0</th>\n",
       "      <td>优</td>\n",
       "      <td>2018-04-14 08:00:01.795</td>\n",
       "      <td>132.334961</td>\n",
       "    </tr>\n",
       "    <tr>\n",
       "      <th>1</th>\n",
       "      <td>优</td>\n",
       "      <td>2018-04-14 08:00:04.372</td>\n",
       "      <td>135.273865</td>\n",
       "    </tr>\n",
       "    <tr>\n",
       "      <th>2</th>\n",
       "      <td>优</td>\n",
       "      <td>2018-04-14 08:00:06.926</td>\n",
       "      <td>132.334961</td>\n",
       "    </tr>\n",
       "    <tr>\n",
       "      <th>3</th>\n",
       "      <td>优</td>\n",
       "      <td>2018-04-14 08:00:09.514</td>\n",
       "      <td>133.799149</td>\n",
       "    </tr>\n",
       "    <tr>\n",
       "      <th>4</th>\n",
       "      <td>优</td>\n",
       "      <td>2018-04-14 08:00:12.129</td>\n",
       "      <td>132.334961</td>\n",
       "    </tr>\n",
       "  </tbody>\n",
       "</table>\n",
       "</div>"
      ],
      "text/plain": [
       "  quality                       ts       value\n",
       "0       优  2018-04-14 08:00:01.795  132.334961\n",
       "1       优  2018-04-14 08:00:04.372  135.273865\n",
       "2       优  2018-04-14 08:00:06.926  132.334961\n",
       "3       优  2018-04-14 08:00:09.514  133.799149\n",
       "4       优  2018-04-14 08:00:12.129  132.334961"
      ]
     },
     "execution_count": 7,
     "metadata": {},
     "output_type": "execute_result"
    }
   ],
   "source": [
    "datab.head()"
   ]
  },
  {
   "cell_type": "code",
   "execution_count": 8,
   "metadata": {},
   "outputs": [],
   "source": [
    "data.value = pd.to_numeric(data.value, errors='ignore')\n",
    "datab.value = pd.to_numeric(datab.value,errors = 'ignore')\n",
    "\n",
    "data = data[data['value']> 0]\n",
    "datab = datab[datab['value'] > 0]"
   ]
  },
  {
   "cell_type": "code",
   "execution_count": 9,
   "metadata": {},
   "outputs": [
    {
     "data": {
      "text/plain": [
       "<matplotlib.axes._subplots.AxesSubplot at 0x782286a0>"
      ]
     },
     "execution_count": 9,
     "metadata": {},
     "output_type": "execute_result"
    },
    {
     "data": {
      "image/png": "[encoded data removed]",
      "text/plain": [
       "<Figure size 432x288 with 1 Axes>"
      ]
     },
     "metadata": {
      "needs_background": "light"
     },
     "output_type": "display_data"
    }
   ],
   "source": [
    "data.plot()"
   ]
  },
  {
   "cell_type": "code",
   "execution_count": 10,
   "metadata": {},
   "outputs": [
    {
     "data": {
      "text/plain": [
       "<matplotlib.axes._subplots.AxesSubplot at 0x7883b7f0>"
      ]
     },
     "execution_count": 10,
     "metadata": {},
     "output_type": "execute_result"
    },
    {
     "data": {
      "image/png": "[encoded data removed]",
      "text/plain": [
       "<Figure size 432x288 with 1 Axes>"
      ]
     },
     "metadata": {
      "needs_background": "light"
     },
     "output_type": "display_data"
    }
   ],
   "source": [
    "datab.plot()"
   ]
  },
  {
   "cell_type": "code",
   "execution_count": 11,
   "metadata": {},
   "outputs": [],
   "source": [
    "new_ts = [data['ts'].iloc[i][0:13] for i in range(0,len(data))]"
   ]
  },
  {
   "cell_type": "code",
   "execution_count": 12,
   "metadata": {},
   "outputs": [],
   "source": [
    "new_tsb = [datab['ts'].iloc[i][0:13] for i in range(0,len(datab))]"
   ]
  },
  {
   "cell_type": "code",
   "execution_count": 13,
   "metadata": {},
   "outputs": [],
   "source": [
    "data.drop('ts',axis=1, inplace=True)\n",
    "datab.drop('ts',axis = 1,inplace = True)"
   ]
  },
  {
   "cell_type": "code",
   "execution_count": 14,
   "metadata": {
    "scrolled": true
   },
   "outputs": [],
   "source": [
    "data.insert(1,'ts',new_ts)\n",
    "datab.insert(1,'ts',new_tsb)"
   ]
  },
  {
   "cell_type": "code",
   "execution_count": 15,
   "metadata": {
    "scrolled": true
   },
   "outputs": [],
   "source": [
    "grouped = data['value'].groupby(data['ts'])\n",
    "groupedb = datab['value'].groupby(datab['ts'])"
   ]
  },
  {
   "cell_type": "code",
   "execution_count": 16,
   "metadata": {
    "scrolled": true
   },
   "outputs": [],
   "source": [
    "d1 = grouped.mean()\n",
    "d2 = groupedb.mean()"
   ]
  },
  {
   "cell_type": "code",
   "execution_count": 17,
   "metadata": {},
   "outputs": [],
   "source": [
    "d1 = pd.DataFrame(d1)"
   ]
  },
  {
   "cell_type": "code",
   "execution_count": 18,
   "metadata": {},
   "outputs": [],
   "source": [
    "d2 = pd.DataFrame(d2)"
   ]
  },
  {
   "cell_type": "code",
   "execution_count": 19,
   "metadata": {
    "scrolled": true
   },
   "outputs": [],
   "source": [
    "data_all = pd.merge(d1,d2,left_index= True, right_index=True)"
   ]
  },
  {
   "cell_type": "code",
   "execution_count": 20,
   "metadata": {},
   "outputs": [
    {
     "data": {
      "text/html": [
       "<div>\n",
       "<style scoped>\n",
       "    .dataframe tbody tr th:only-of-type {\n",
       "        vertical-align: middle;\n",
       "    }\n",
       "\n",
       "    .dataframe tbody tr th {\n",
       "        vertical-align: top;\n",
       "    }\n",
       "\n",
       "    .dataframe thead th {\n",
       "        text-align: right;\n",
       "    }\n",
       "</style>\n",
       "<table border=\"1\" class=\"dataframe\">\n",
       "  <thead>\n",
       "    <tr style=\"text-align: right;\">\n",
       "      <th></th>\n",
       "      <th>value_x</th>\n",
       "      <th>value_y</th>\n",
       "    </tr>\n",
       "    <tr>\n",
       "      <th>ts</th>\n",
       "      <th></th>\n",
       "      <th></th>\n",
       "    </tr>\n",
       "  </thead>\n",
       "  <tbody>\n",
       "    <tr>\n",
       "      <th>2018-04-14 08</th>\n",
       "      <td>129.998389</td>\n",
       "      <td>134.798064</td>\n",
       "    </tr>\n",
       "    <tr>\n",
       "      <th>2018-04-14 09</th>\n",
       "      <td>130.183292</td>\n",
       "      <td>134.999870</td>\n",
       "    </tr>\n",
       "    <tr>\n",
       "      <th>2018-04-14 10</th>\n",
       "      <td>132.322917</td>\n",
       "      <td>137.338072</td>\n",
       "    </tr>\n",
       "    <tr>\n",
       "      <th>2018-04-14 11</th>\n",
       "      <td>132.854250</td>\n",
       "      <td>138.004280</td>\n",
       "    </tr>\n",
       "    <tr>\n",
       "      <th>2018-04-14 12</th>\n",
       "      <td>132.152613</td>\n",
       "      <td>137.333174</td>\n",
       "    </tr>\n",
       "  </tbody>\n",
       "</table>\n",
       "</div>"
      ],
      "text/plain": [
       "                  value_x     value_y\n",
       "ts                                   \n",
       "2018-04-14 08  129.998389  134.798064\n",
       "2018-04-14 09  130.183292  134.999870\n",
       "2018-04-14 10  132.322917  137.338072\n",
       "2018-04-14 11  132.854250  138.004280\n",
       "2018-04-14 12  132.152613  137.333174"
      ]
     },
     "execution_count": 20,
     "metadata": {},
     "output_type": "execute_result"
    }
   ],
   "source": [
    "data_all.head()"
   ]
  },
  {
   "cell_type": "code",
   "execution_count": 21,
   "metadata": {},
   "outputs": [
    {
     "data": {
      "text/plain": [
       "Text(0, 0.5, 'F_1_L1.I_5209bMI_mean_value')"
      ]
     },
     "execution_count": 21,
     "metadata": {},
     "output_type": "execute_result"
    },
    {
     "data": {
      "image/png": "[encoded data removed]",
      "text/plain": [
       "<Figure size 432x288 with 1 Axes>"
      ]
     },
     "metadata": {
      "needs_background": "light"
     },
     "output_type": "display_data"
    }
   ],
   "source": [
    "#提升机A电流与提升机B电流结果反馈\n",
    "import numpy as np\n",
    "c=np.random.randint(0,10,len(data_all))\n",
    "plt.scatter(data_all.value_x,data_all.value_y,c = c,marker = 'o')\n",
    "plt.xlabel('F_1_L1.I_5209MI_mean_value')\n",
    "plt.ylabel('F_1_L1.I_5209bMI_mean_value')"
   ]
  },
  {
   "cell_type": "code",
   "execution_count": null,
   "metadata": {},
   "outputs": [],
   "source": []
  }
 ],
 "metadata": {
  "kernelspec": {
   "display_name": "Python 3",
   "language": "python",
   "name": "python3"
  },
  "language_info": {
   "codemirror_mode": {
    "name": "ipython",
    "version": 3
   },
   "file_extension": ".py",
   "mimetype": "text/x-python",
   "name": "python",
   "nbconvert_exporter": "python",
   "pygments_lexer": "ipython3",
   "version": "3.7.1"
  }
 },
 "nbformat": 4,
 "nbformat_minor": 2
}
