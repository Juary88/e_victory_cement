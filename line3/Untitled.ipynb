{
 "cells": [
  {
   "cell_type": "code",
   "execution_count": 1,
   "metadata": {
    "scrolled": false
   },
   "outputs": [],
   "source": [
    "import json\n",
    "import pandas as pd\n",
    "import matplotlib.pyplot as plt\n",
    "import os\n",
    "%matplotlib inline\n",
    "#path = './data/line_1/20180414/20180414_F_1_L1.I_5209MI.txt'\n",
    "#path = './data/line_1/20180414/20180414_F_1_L1.I_5209bMI.txt'\n",
    "path = './data/line_3/'\n",
    "file = 'F_1_L23.I_T5209MI'\n",
    "fileb = 'F_1_L23.I_T5209bMI'\n",
    "def loadData(path,file_name):\n",
    "    alldata = []\n",
    "    for i in os.listdir('data/line_3'):\n",
    "        \n",
    "        path2 = path + i + '/' + i + '_' + file_name + '.txt'\n",
    "        print(path)\n",
    "        f = open(path2) \n",
    "        data = json.load(f)\n",
    "        alldata.extend(data[file_name])\n",
    "    return alldata"
   ]
  },
  {
   "cell_type": "code",
   "execution_count": 2,
   "metadata": {
    "scrolled": true
   },
   "outputs": [
    {
     "name": "stdout",
     "output_type": "stream",
     "text": [
      "./data/line_3/\n",
      "./data/line_3/\n",
      "./data/line_3/\n",
      "./data/line_3/\n",
      "./data/line_3/\n",
      "./data/line_3/\n",
      "./data/line_3/\n",
      "./data/line_3/\n",
      "./data/line_3/\n",
      "./data/line_3/\n",
      "./data/line_3/\n",
      "./data/line_3/\n",
      "./data/line_3/\n",
      "./data/line_3/\n"
     ]
    }
   ],
   "source": [
    "t = loadData(path,file)"
   ]
  },
  {
   "cell_type": "code",
   "execution_count": 3,
   "metadata": {
    "scrolled": true
   },
   "outputs": [
    {
     "name": "stdout",
     "output_type": "stream",
     "text": [
      "./data/line_3/\n",
      "./data/line_3/\n",
      "./data/line_3/\n",
      "./data/line_3/\n",
      "./data/line_3/\n",
      "./data/line_3/\n",
      "./data/line_3/\n",
      "./data/line_3/\n",
      "./data/line_3/\n",
      "./data/line_3/\n",
      "./data/line_3/\n",
      "./data/line_3/\n",
      "./data/line_3/\n",
      "./data/line_3/\n"
     ]
    }
   ],
   "source": [
    "tb = loadData(path,fileb)"
   ]
  },
  {
   "cell_type": "code",
   "execution_count": 4,
   "metadata": {},
   "outputs": [
    {
     "name": "stdout",
     "output_type": "stream",
     "text": [
      "1711660\n",
      "1853907\n"
     ]
    }
   ],
   "source": [
    "print(len(t))\n",
    "print(len(tb))"
   ]
  },
  {
   "cell_type": "code",
   "execution_count": 5,
   "metadata": {
    "scrolled": true
   },
   "outputs": [],
   "source": [
    "data = pd.DataFrame(t)\n",
    "datab = pd.DataFrame(tb)"
   ]
  },
  {
   "cell_type": "code",
   "execution_count": 6,
   "metadata": {},
   "outputs": [
    {
     "data": {
      "text/html": [
       "<div>\n",
       "<style scoped>\n",
       "    .dataframe tbody tr th:only-of-type {\n",
       "        vertical-align: middle;\n",
       "    }\n",
       "\n",
       "    .dataframe tbody tr th {\n",
       "        vertical-align: top;\n",
       "    }\n",
       "\n",
       "    .dataframe thead th {\n",
       "        text-align: right;\n",
       "    }\n",
       "</style>\n",
       "<table border=\"1\" class=\"dataframe\">\n",
       "  <thead>\n",
       "    <tr style=\"text-align: right;\">\n",
       "      <th></th>\n",
       "      <th>quality</th>\n",
       "      <th>ts</th>\n",
       "      <th>value</th>\n",
       "    </tr>\n",
       "  </thead>\n",
       "  <tbody>\n",
       "    <tr>\n",
       "      <th>0</th>\n",
       "      <td>优</td>\n",
       "      <td>2018-04-14 08:01:10.014</td>\n",
       "      <td>138.299850</td>\n",
       "    </tr>\n",
       "    <tr>\n",
       "      <th>1</th>\n",
       "      <td>优</td>\n",
       "      <td>2018-04-14 08:01:11.271</td>\n",
       "      <td>138.198013</td>\n",
       "    </tr>\n",
       "    <tr>\n",
       "      <th>2</th>\n",
       "      <td>优</td>\n",
       "      <td>2018-04-14 08:02:43.591</td>\n",
       "      <td>138.299850</td>\n",
       "    </tr>\n",
       "    <tr>\n",
       "      <th>3</th>\n",
       "      <td>优</td>\n",
       "      <td>2018-04-14 08:02:44.839</td>\n",
       "      <td>136.884476</td>\n",
       "    </tr>\n",
       "    <tr>\n",
       "      <th>4</th>\n",
       "      <td>优</td>\n",
       "      <td>2018-04-14 08:02:48.646</td>\n",
       "      <td>136.772461</td>\n",
       "    </tr>\n",
       "  </tbody>\n",
       "</table>\n",
       "</div>"
      ],
      "text/plain": [
       "  quality                       ts       value\n",
       "0       优  2018-04-14 08:01:10.014  138.299850\n",
       "1       优  2018-04-14 08:01:11.271  138.198013\n",
       "2       优  2018-04-14 08:02:43.591  138.299850\n",
       "3       优  2018-04-14 08:02:44.839  136.884476\n",
       "4       优  2018-04-14 08:02:48.646  136.772461"
      ]
     },
     "execution_count": 6,
     "metadata": {},
     "output_type": "execute_result"
    }
   ],
   "source": [
    "data.head()"
   ]
  },
  {
   "cell_type": "code",
   "execution_count": 7,
   "metadata": {},
   "outputs": [
    {
     "data": {
      "text/html": [
       "<div>\n",
       "<style scoped>\n",
       "    .dataframe tbody tr th:only-of-type {\n",
       "        vertical-align: middle;\n",
       "    }\n",
       "\n",
       "    .dataframe tbody tr th {\n",
       "        vertical-align: top;\n",
       "    }\n",
       "\n",
       "    .dataframe thead th {\n",
       "        text-align: right;\n",
       "    }\n",
       "</style>\n",
       "<table border=\"1\" class=\"dataframe\">\n",
       "  <thead>\n",
       "    <tr style=\"text-align: right;\">\n",
       "      <th></th>\n",
       "      <th>quality</th>\n",
       "      <th>ts</th>\n",
       "      <th>value</th>\n",
       "    </tr>\n",
       "  </thead>\n",
       "  <tbody>\n",
       "    <tr>\n",
       "      <th>0</th>\n",
       "      <td>优</td>\n",
       "      <td>2018-04-14 08:00:03.256</td>\n",
       "      <td>126.438721</td>\n",
       "    </tr>\n",
       "    <tr>\n",
       "      <th>1</th>\n",
       "      <td>优</td>\n",
       "      <td>2018-04-14 08:00:05.784</td>\n",
       "      <td>127.819687</td>\n",
       "    </tr>\n",
       "    <tr>\n",
       "      <th>2</th>\n",
       "      <td>优</td>\n",
       "      <td>2018-04-14 08:00:08.325</td>\n",
       "      <td>126.438721</td>\n",
       "    </tr>\n",
       "    <tr>\n",
       "      <th>3</th>\n",
       "      <td>优</td>\n",
       "      <td>2018-04-14 08:00:09.563</td>\n",
       "      <td>127.939774</td>\n",
       "    </tr>\n",
       "    <tr>\n",
       "      <th>4</th>\n",
       "      <td>优</td>\n",
       "      <td>2018-04-14 08:00:12.070</td>\n",
       "      <td>126.438721</td>\n",
       "    </tr>\n",
       "  </tbody>\n",
       "</table>\n",
       "</div>"
      ],
      "text/plain": [
       "  quality                       ts       value\n",
       "0       优  2018-04-14 08:00:03.256  126.438721\n",
       "1       优  2018-04-14 08:00:05.784  127.819687\n",
       "2       优  2018-04-14 08:00:08.325  126.438721\n",
       "3       优  2018-04-14 08:00:09.563  127.939774\n",
       "4       优  2018-04-14 08:00:12.070  126.438721"
      ]
     },
     "execution_count": 7,
     "metadata": {},
     "output_type": "execute_result"
    }
   ],
   "source": [
    "datab.head()"
   ]
  },
  {
   "cell_type": "code",
   "execution_count": 8,
   "metadata": {},
   "outputs": [],
   "source": [
    "data.value = pd.to_numeric(data.value, errors='ignore')\n",
    "datab.value = pd.to_numeric(datab.value,errors = 'ignore')\n",
    "\n",
    "data = data[data['value']> 0]\n",
    "datab = datab[datab['value'] > 0]"
   ]
  },
  {
   "cell_type": "code",
   "execution_count": 9,
   "metadata": {},
   "outputs": [
    {
     "data": {
      "text/plain": [
       "<matplotlib.axes._subplots.AxesSubplot at 0x64e72a20>"
      ]
     },
     "execution_count": 9,
     "metadata": {},
     "output_type": "execute_result"
    },
    {
     "data": {
      "image/png": "[encoded data removed]",
      "text/plain": [
       "<Figure size 432x288 with 1 Axes>"
      ]
     },
     "metadata": {
      "needs_background": "light"
     },
     "output_type": "display_data"
    }
   ],
   "source": [
    "data.plot()"
   ]
  },
  {
   "cell_type": "code",
   "execution_count": 10,
   "metadata": {},
   "outputs": [
    {
     "data": {
      "text/plain": [
       "<matplotlib.axes._subplots.AxesSubplot at 0x655de320>"
      ]
     },
     "execution_count": 10,
     "metadata": {},
     "output_type": "execute_result"
    },
    {
     "data": {
      "image/png": "[encoded data removed]",
      "text/plain": [
       "<Figure size 432x288 with 1 Axes>"
      ]
     },
     "metadata": {
      "needs_background": "light"
     },
     "output_type": "display_data"
    }
   ],
   "source": [
    "datab.plot()"
   ]
  },
  {
   "cell_type": "code",
   "execution_count": 11,
   "metadata": {},
   "outputs": [],
   "source": [
    "new_ts = [data['ts'].iloc[i][0:13] for i in range(0,len(data))]"
   ]
  },
  {
   "cell_type": "code",
   "execution_count": 12,
   "metadata": {},
   "outputs": [],
   "source": [
    "new_tsb = [datab['ts'].iloc[i][0:13] for i in range(0,len(datab))]"
   ]
  },
  {
   "cell_type": "code",
   "execution_count": 13,
   "metadata": {},
   "outputs": [],
   "source": [
    "data.drop('ts',axis=1, inplace=True)\n",
    "datab.drop('ts',axis = 1,inplace = True)"
   ]
  },
  {
   "cell_type": "code",
   "execution_count": 14,
   "metadata": {
    "scrolled": true
   },
   "outputs": [],
   "source": [
    "data.insert(1,'ts',new_ts)\n",
    "datab.insert(1,'ts',new_tsb)"
   ]
  },
  {
   "cell_type": "code",
   "execution_count": 16,
   "metadata": {
    "scrolled": true
   },
   "outputs": [],
   "source": [
    "grouped = data['value'].groupby(data['ts'])\n",
    "groupedb = datab['value'].groupby(datab['ts'])"
   ]
  },
  {
   "cell_type": "code",
   "execution_count": 17,
   "metadata": {
    "scrolled": true
   },
   "outputs": [],
   "source": [
    "d1 = grouped.mean()\n",
    "d2 = groupedb.mean()"
   ]
  },
  {
   "cell_type": "code",
   "execution_count": 29,
   "metadata": {},
   "outputs": [],
   "source": [
    "d1 = pd.DataFrame(d1)"
   ]
  },
  {
   "cell_type": "code",
   "execution_count": 31,
   "metadata": {},
   "outputs": [],
   "source": [
    "d2 = pd.DataFrame(d2)"
   ]
  },
  {
   "cell_type": "code",
   "execution_count": 38,
   "metadata": {
    "scrolled": true
   },
   "outputs": [],
   "source": [
    "data_all = pd.merge(d1,d2,left_index= True, right_index=True)"
   ]
  },
  {
   "cell_type": "code",
   "execution_count": 39,
   "metadata": {},
   "outputs": [
    {
     "data": {
      "text/html": [
       "<div>\n",
       "<style scoped>\n",
       "    .dataframe tbody tr th:only-of-type {\n",
       "        vertical-align: middle;\n",
       "    }\n",
       "\n",
       "    .dataframe tbody tr th {\n",
       "        vertical-align: top;\n",
       "    }\n",
       "\n",
       "    .dataframe thead th {\n",
       "        text-align: right;\n",
       "    }\n",
       "</style>\n",
       "<table border=\"1\" class=\"dataframe\">\n",
       "  <thead>\n",
       "    <tr style=\"text-align: right;\">\n",
       "      <th></th>\n",
       "      <th>value_x</th>\n",
       "      <th>value_y</th>\n",
       "    </tr>\n",
       "    <tr>\n",
       "      <th>ts</th>\n",
       "      <th></th>\n",
       "      <th></th>\n",
       "    </tr>\n",
       "  </thead>\n",
       "  <tbody>\n",
       "    <tr>\n",
       "      <th>2018-04-14 08</th>\n",
       "      <td>138.622358</td>\n",
       "      <td>127.364318</td>\n",
       "    </tr>\n",
       "    <tr>\n",
       "      <th>2018-04-14 09</th>\n",
       "      <td>137.906772</td>\n",
       "      <td>127.204170</td>\n",
       "    </tr>\n",
       "    <tr>\n",
       "      <th>2018-04-14 10</th>\n",
       "      <td>136.766096</td>\n",
       "      <td>125.563310</td>\n",
       "    </tr>\n",
       "    <tr>\n",
       "      <th>2018-04-14 11</th>\n",
       "      <td>136.490709</td>\n",
       "      <td>125.564651</td>\n",
       "    </tr>\n",
       "    <tr>\n",
       "      <th>2018-04-14 12</th>\n",
       "      <td>136.522352</td>\n",
       "      <td>125.712914</td>\n",
       "    </tr>\n",
       "  </tbody>\n",
       "</table>\n",
       "</div>"
      ],
      "text/plain": [
       "                  value_x     value_y\n",
       "ts                                   \n",
       "2018-04-14 08  138.622358  127.364318\n",
       "2018-04-14 09  137.906772  127.204170\n",
       "2018-04-14 10  136.766096  125.563310\n",
       "2018-04-14 11  136.490709  125.564651\n",
       "2018-04-14 12  136.522352  125.712914"
      ]
     },
     "execution_count": 39,
     "metadata": {},
     "output_type": "execute_result"
    }
   ],
   "source": [
    "data_all.head()"
   ]
  },
  {
   "cell_type": "code",
   "execution_count": 42,
   "metadata": {},
   "outputs": [
    {
     "data": {
      "text/plain": [
       "Text(0, 0.5, 'F_1_L1.I_5209bMI_mean_value')"
      ]
     },
     "execution_count": 42,
     "metadata": {},
     "output_type": "execute_result"
    },
    {
     "data": {
      "image/png": "[encoded data removed]",
      "text/plain": [
       "<Figure size 432x288 with 1 Axes>"
      ]
     },
     "metadata": {
      "needs_background": "light"
     },
     "output_type": "display_data"
    }
   ],
   "source": [
    "#提升机A电流与提升机B电流结果反馈\n",
    "import numpy as np\n",
    "c=np.random.randint(0,10,len(data_all))\n",
    "plt.scatter(data_all.value_x,data_all.value_y,c = c,marker = 'o')\n",
    "plt.xlabel('F_1_L1.I_5209MI_mean_value')\n",
    "plt.ylabel('F_1_L1.I_5209bMI_mean_value')"
   ]
  },
  {
   "cell_type": "code",
   "execution_count": null,
   "metadata": {},
   "outputs": [],
   "source": []
  }
 ],
 "metadata": {
  "kernelspec": {
   "display_name": "Python 3",
   "language": "python",
   "name": "python3"
  },
  "language_info": {
   "codemirror_mode": {
    "name": "ipython",
    "version": 3
   },
   "file_extension": ".py",
   "mimetype": "text/x-python",
   "name": "python",
   "nbconvert_exporter": "python",
   "pygments_lexer": "ipython3",
   "version": "3.7.1"
  }
 },
 "nbformat": 4,
 "nbformat_minor": 2
}
