{
 "cells": [
  {
   "cell_type": "code",
   "execution_count": 2,
   "metadata": {},
   "outputs": [],
   "source": [
    "import json\n",
    "import pandas as pd\n",
    "import matplotlib.pyplot as plt\n",
    "import os\n",
    "%matplotlib inline\n",
    "#path = './data/line_1/20180414/20180414_F_1_L1.I_5209MI.txt'\n",
    "#path = './data/line_1/20180414/20180414_F_1_L1.I_5209bMI.txt'\n",
    "path = './data/line_3/'\n",
    "file = 'F_1_L23.I_T5202F02_2'\n",
    "fileb = 'F_1_L23.I_T5202F02_2S01'\n",
    "filec = 'F_1_L23.I_T5202F02_2I'\n",
    "def loadData(path,file_name):\n",
    "    alldata = []\n",
    "    for i in os.listdir('data/line_3'):\n",
    "        \n",
    "        path2 = path + i + '/' + i + '_' + file_name + '.txt'\n",
    "        print(path)\n",
    "        f = open(path2) \n",
    "        data = json.load(f)\n",
    "        alldata.extend(data[file_name])\n",
    "    return alldata"
   ]
  },
  {
   "cell_type": "code",
   "execution_count": 3,
   "metadata": {
    "scrolled": false
   },
   "outputs": [
    {
     "name": "stdout",
     "output_type": "stream",
     "text": [
      "./data/line_3/\n",
      "./data/line_3/\n",
      "./data/line_3/\n",
      "./data/line_3/\n",
      "./data/line_3/\n",
      "./data/line_3/\n",
      "./data/line_3/\n",
      "./data/line_3/\n",
      "./data/line_3/\n",
      "./data/line_3/\n",
      "./data/line_3/\n",
      "./data/line_3/\n",
      "./data/line_3/\n",
      "./data/line_3/\n"
     ]
    }
   ],
   "source": [
    "l = loadData(path,file)"
   ]
  },
  {
   "cell_type": "code",
   "execution_count": 4,
   "metadata": {},
   "outputs": [],
   "source": [
    "data_l = pd.DataFrame(l)"
   ]
  },
  {
   "cell_type": "code",
   "execution_count": 5,
   "metadata": {},
   "outputs": [
    {
     "name": "stdout",
     "output_type": "stream",
     "text": [
      "./data/line_3/\n",
      "./data/line_3/\n",
      "./data/line_3/\n",
      "./data/line_3/\n",
      "./data/line_3/\n",
      "./data/line_3/\n",
      "./data/line_3/\n",
      "./data/line_3/\n",
      "./data/line_3/\n",
      "./data/line_3/\n",
      "./data/line_3/\n",
      "./data/line_3/\n",
      "./data/line_3/\n",
      "./data/line_3/\n"
     ]
    }
   ],
   "source": [
    "z_v = loadData(path,fileb)"
   ]
  },
  {
   "cell_type": "code",
   "execution_count": 6,
   "metadata": {},
   "outputs": [
    {
     "name": "stdout",
     "output_type": "stream",
     "text": [
      "./data/line_3/\n",
      "./data/line_3/\n",
      "./data/line_3/\n",
      "./data/line_3/\n",
      "./data/line_3/\n",
      "./data/line_3/\n",
      "./data/line_3/\n",
      "./data/line_3/\n",
      "./data/line_3/\n",
      "./data/line_3/\n",
      "./data/line_3/\n",
      "./data/line_3/\n",
      "./data/line_3/\n",
      "./data/line_3/\n"
     ]
    }
   ],
   "source": [
    "z_i = loadData(path,filec)"
   ]
  },
  {
   "cell_type": "code",
   "execution_count": 7,
   "metadata": {},
   "outputs": [],
   "source": [
    "data_z_v = pd.DataFrame(z_v)\n",
    "data_z_i = pd.DataFrame(z_i)"
   ]
  },
  {
   "cell_type": "code",
   "execution_count": 8,
   "metadata": {},
   "outputs": [
    {
     "data": {
      "text/html": [
       "<div>\n",
       "<style scoped>\n",
       "    .dataframe tbody tr th:only-of-type {\n",
       "        vertical-align: middle;\n",
       "    }\n",
       "\n",
       "    .dataframe tbody tr th {\n",
       "        vertical-align: top;\n",
       "    }\n",
       "\n",
       "    .dataframe thead th {\n",
       "        text-align: right;\n",
       "    }\n",
       "</style>\n",
       "<table border=\"1\" class=\"dataframe\">\n",
       "  <thead>\n",
       "    <tr style=\"text-align: right;\">\n",
       "      <th></th>\n",
       "      <th>quality</th>\n",
       "      <th>ts</th>\n",
       "      <th>value</th>\n",
       "    </tr>\n",
       "  </thead>\n",
       "  <tbody>\n",
       "    <tr>\n",
       "      <th>0</th>\n",
       "      <td>优</td>\n",
       "      <td>2018-04-14 08:00:00.766</td>\n",
       "      <td>1822.331299</td>\n",
       "    </tr>\n",
       "    <tr>\n",
       "      <th>1</th>\n",
       "      <td>优</td>\n",
       "      <td>2018-04-14 08:00:03.256</td>\n",
       "      <td>1900.280762</td>\n",
       "    </tr>\n",
       "    <tr>\n",
       "      <th>2</th>\n",
       "      <td>优</td>\n",
       "      <td>2018-04-14 08:00:05.784</td>\n",
       "      <td>1887.113647</td>\n",
       "    </tr>\n",
       "    <tr>\n",
       "      <th>3</th>\n",
       "      <td>优</td>\n",
       "      <td>2018-04-14 08:00:08.325</td>\n",
       "      <td>1880.530029</td>\n",
       "    </tr>\n",
       "    <tr>\n",
       "      <th>4</th>\n",
       "      <td>优</td>\n",
       "      <td>2018-04-14 08:00:10.812</td>\n",
       "      <td>1852.352417</td>\n",
       "    </tr>\n",
       "  </tbody>\n",
       "</table>\n",
       "</div>"
      ],
      "text/plain": [
       "  quality                       ts        value\n",
       "0       优  2018-04-14 08:00:00.766  1822.331299\n",
       "1       优  2018-04-14 08:00:03.256  1900.280762\n",
       "2       优  2018-04-14 08:00:05.784  1887.113647\n",
       "3       优  2018-04-14 08:00:08.325  1880.530029\n",
       "4       优  2018-04-14 08:00:10.812  1852.352417"
      ]
     },
     "execution_count": 8,
     "metadata": {},
     "output_type": "execute_result"
    }
   ],
   "source": [
    "data_z_v.head()"
   ]
  },
  {
   "cell_type": "code",
   "execution_count": 9,
   "metadata": {},
   "outputs": [
    {
     "data": {
      "text/html": [
       "<div>\n",
       "<style scoped>\n",
       "    .dataframe tbody tr th:only-of-type {\n",
       "        vertical-align: middle;\n",
       "    }\n",
       "\n",
       "    .dataframe tbody tr th {\n",
       "        vertical-align: top;\n",
       "    }\n",
       "\n",
       "    .dataframe thead th {\n",
       "        text-align: right;\n",
       "    }\n",
       "</style>\n",
       "<table border=\"1\" class=\"dataframe\">\n",
       "  <thead>\n",
       "    <tr style=\"text-align: right;\">\n",
       "      <th></th>\n",
       "      <th>quality</th>\n",
       "      <th>ts</th>\n",
       "      <th>value</th>\n",
       "    </tr>\n",
       "  </thead>\n",
       "  <tbody>\n",
       "    <tr>\n",
       "      <th>0</th>\n",
       "      <td>优</td>\n",
       "      <td>2018-04-14 08:00:02.013</td>\n",
       "      <td>94.487350</td>\n",
       "    </tr>\n",
       "    <tr>\n",
       "      <th>1</th>\n",
       "      <td>优</td>\n",
       "      <td>2018-04-14 08:00:04.520</td>\n",
       "      <td>92.380608</td>\n",
       "    </tr>\n",
       "    <tr>\n",
       "      <th>2</th>\n",
       "      <td>优</td>\n",
       "      <td>2018-04-14 08:00:07.046</td>\n",
       "      <td>91.924149</td>\n",
       "    </tr>\n",
       "    <tr>\n",
       "      <th>3</th>\n",
       "      <td>优</td>\n",
       "      <td>2018-04-14 08:00:09.563</td>\n",
       "      <td>92.296341</td>\n",
       "    </tr>\n",
       "    <tr>\n",
       "      <th>4</th>\n",
       "      <td>优</td>\n",
       "      <td>2018-04-14 08:00:12.070</td>\n",
       "      <td>93.876396</td>\n",
       "    </tr>\n",
       "  </tbody>\n",
       "</table>\n",
       "</div>"
      ],
      "text/plain": [
       "  quality                       ts      value\n",
       "0       优  2018-04-14 08:00:02.013  94.487350\n",
       "1       优  2018-04-14 08:00:04.520  92.380608\n",
       "2       优  2018-04-14 08:00:07.046  91.924149\n",
       "3       优  2018-04-14 08:00:09.563  92.296341\n",
       "4       优  2018-04-14 08:00:12.070  93.876396"
      ]
     },
     "execution_count": 9,
     "metadata": {},
     "output_type": "execute_result"
    }
   ],
   "source": [
    "data_z_i.head()"
   ]
  },
  {
   "cell_type": "code",
   "execution_count": 10,
   "metadata": {},
   "outputs": [],
   "source": [
    "data_l.value = pd.to_numeric(data_l.value, errors='ignore')\n",
    "data_z_v.value = pd.to_numeric(data_z_v.value,errors = 'ignore')\n",
    "data_z_i.value = pd.to_numeric(data_z_i.value,errors = 'ignore')\n",
    "\n",
    "data_l = data_l[data_l['value']> 0]\n",
    "data_z_i = data_z_i[data_z_i['value'] > 0]\n",
    "data_z_v = data_z_v[data_z_v['value'] > 0] "
   ]
  },
  {
   "cell_type": "code",
   "execution_count": 16,
   "metadata": {},
   "outputs": [
    {
     "data": {
      "text/plain": [
       "<matplotlib.axes._subplots.AxesSubplot at 0x8c462e8>"
      ]
     },
     "execution_count": 16,
     "metadata": {},
     "output_type": "execute_result"
    },
    {
     "data": {
      "image/png": "[encoded data removed]",
      "text/plain": [
       "<Figure size 432x288 with 1 Axes>"
      ]
     },
     "metadata": {
      "needs_background": "light"
     },
     "output_type": "display_data"
    }
   ],
   "source": [
    "data_l.plot()"
   ]
  },
  {
   "cell_type": "code",
   "execution_count": 17,
   "metadata": {},
   "outputs": [
    {
     "data": {
      "text/plain": [
       "<matplotlib.axes._subplots.AxesSubplot at 0xe1960390>"
      ]
     },
     "execution_count": 17,
     "metadata": {},
     "output_type": "execute_result"
    },
    {
     "data": {
      "image/png": "[encoded data removed]",
      "text/plain": [
       "<Figure size 432x288 with 1 Axes>"
      ]
     },
     "metadata": {
      "needs_background": "light"
     },
     "output_type": "display_data"
    }
   ],
   "source": [
    "data_z_i.plot()"
   ]
  },
  {
   "cell_type": "code",
   "execution_count": 18,
   "metadata": {},
   "outputs": [
    {
     "data": {
      "text/plain": [
       "<matplotlib.axes._subplots.AxesSubplot at 0xe2653278>"
      ]
     },
     "execution_count": 18,
     "metadata": {},
     "output_type": "execute_result"
    },
    {
     "data": {
      "image/png": "[encoded data removed]",
      "text/plain": [
       "<Figure size 432x288 with 1 Axes>"
      ]
     },
     "metadata": {
      "needs_background": "light"
     },
     "output_type": "display_data"
    }
   ],
   "source": [
    "data_z_v.plot()"
   ]
  },
  {
   "cell_type": "code",
   "execution_count": 11,
   "metadata": {},
   "outputs": [],
   "source": [
    "new_ts_l = [data_l['ts'].iloc[i][0:13] for i in range(0,len(data_l))]\n",
    "new_ts_z_v = [data_z_v['ts'].iloc[i][0:13] for i in range(0,len(data_z_v))]\n",
    "new_ts_z_i = [data_z_i['ts'].iloc[i][0:13] for i in range(0,len(data_z_i))]"
   ]
  },
  {
   "cell_type": "code",
   "execution_count": 12,
   "metadata": {},
   "outputs": [],
   "source": [
    "data_l.drop('ts',axis=1, inplace=True)\n",
    "data_z_i.drop('ts',axis=1, inplace=True)\n",
    "data_z_v.drop('ts',axis=1, inplace=True)"
   ]
  },
  {
   "cell_type": "code",
   "execution_count": 13,
   "metadata": {},
   "outputs": [],
   "source": [
    "data_l.insert(1,'ts',new_ts_l)\n",
    "data_z_v.insert(1,'ts',new_ts_z_v)\n",
    "data_z_i.insert(1,'ts',new_ts_z_i)"
   ]
  },
  {
   "cell_type": "code",
   "execution_count": 14,
   "metadata": {},
   "outputs": [],
   "source": [
    "grouped_l = data_l['value'].groupby(data_l['ts'])\n",
    "grouped_z_v = data_z_v['value'].groupby(data_z_v['ts'])\n",
    "grouped_z_i = data_z_i['value'].groupby(data_z_i['ts']) "
   ]
  },
  {
   "cell_type": "code",
   "execution_count": 15,
   "metadata": {},
   "outputs": [],
   "source": [
    "d1 = grouped_l.mean()\n",
    "d2 = grouped_z_v.mean()\n",
    "d3 = grouped_z_i.mean()"
   ]
  },
  {
   "cell_type": "code",
   "execution_count": 16,
   "metadata": {},
   "outputs": [],
   "source": [
    "d1 = pd.DataFrame(d1)\n",
    "d2 = pd.DataFrame(d2)\n",
    "d3 = pd.DataFrame(d3)"
   ]
  },
  {
   "cell_type": "code",
   "execution_count": 17,
   "metadata": {},
   "outputs": [],
   "source": [
    "data_2_3 = pd.merge(d2,d3,left_index= True, right_index=True)"
   ]
  },
  {
   "cell_type": "code",
   "execution_count": 18,
   "metadata": {},
   "outputs": [],
   "source": [
    "data_all =  pd.merge(d1,data_2_3,left_index= True, right_index=True)"
   ]
  },
  {
   "cell_type": "code",
   "execution_count": 19,
   "metadata": {
    "scrolled": true
   },
   "outputs": [
    {
     "data": {
      "text/html": [
       "<div>\n",
       "<style scoped>\n",
       "    .dataframe tbody tr th:only-of-type {\n",
       "        vertical-align: middle;\n",
       "    }\n",
       "\n",
       "    .dataframe tbody tr th {\n",
       "        vertical-align: top;\n",
       "    }\n",
       "\n",
       "    .dataframe thead th {\n",
       "        text-align: right;\n",
       "    }\n",
       "</style>\n",
       "<table border=\"1\" class=\"dataframe\">\n",
       "  <thead>\n",
       "    <tr style=\"text-align: right;\">\n",
       "      <th></th>\n",
       "      <th>value</th>\n",
       "      <th>value_x</th>\n",
       "      <th>value_y</th>\n",
       "    </tr>\n",
       "    <tr>\n",
       "      <th>ts</th>\n",
       "      <th></th>\n",
       "      <th></th>\n",
       "      <th></th>\n",
       "    </tr>\n",
       "  </thead>\n",
       "  <tbody>\n",
       "    <tr>\n",
       "      <th>2018-04-14 08</th>\n",
       "      <td>410.209815</td>\n",
       "      <td>1745.531513</td>\n",
       "      <td>99.720408</td>\n",
       "    </tr>\n",
       "    <tr>\n",
       "      <th>2018-04-14 09</th>\n",
       "      <td>406.182978</td>\n",
       "      <td>1727.005021</td>\n",
       "      <td>99.821289</td>\n",
       "    </tr>\n",
       "    <tr>\n",
       "      <th>2018-04-14 10</th>\n",
       "      <td>400.168418</td>\n",
       "      <td>1702.118339</td>\n",
       "      <td>99.829918</td>\n",
       "    </tr>\n",
       "    <tr>\n",
       "      <th>2018-04-14 11</th>\n",
       "      <td>400.177397</td>\n",
       "      <td>1701.470879</td>\n",
       "      <td>99.730133</td>\n",
       "    </tr>\n",
       "    <tr>\n",
       "      <th>2018-04-14 12</th>\n",
       "      <td>400.187163</td>\n",
       "      <td>1703.327655</td>\n",
       "      <td>99.766087</td>\n",
       "    </tr>\n",
       "    <tr>\n",
       "      <th>2018-04-14 13</th>\n",
       "      <td>400.184573</td>\n",
       "      <td>1700.783321</td>\n",
       "      <td>99.863487</td>\n",
       "    </tr>\n",
       "    <tr>\n",
       "      <th>2018-04-14 14</th>\n",
       "      <td>400.182491</td>\n",
       "      <td>1702.173700</td>\n",
       "      <td>99.763345</td>\n",
       "    </tr>\n",
       "    <tr>\n",
       "      <th>2018-04-14 15</th>\n",
       "      <td>400.187242</td>\n",
       "      <td>1701.961003</td>\n",
       "      <td>99.756831</td>\n",
       "    </tr>\n",
       "    <tr>\n",
       "      <th>2018-04-14 16</th>\n",
       "      <td>400.196925</td>\n",
       "      <td>1700.717764</td>\n",
       "      <td>99.884635</td>\n",
       "    </tr>\n",
       "    <tr>\n",
       "      <th>2018-04-14 17</th>\n",
       "      <td>400.208863</td>\n",
       "      <td>1702.800298</td>\n",
       "      <td>99.699225</td>\n",
       "    </tr>\n",
       "    <tr>\n",
       "      <th>2018-04-14 18</th>\n",
       "      <td>400.228335</td>\n",
       "      <td>1703.242131</td>\n",
       "      <td>99.715941</td>\n",
       "    </tr>\n",
       "    <tr>\n",
       "      <th>2018-04-14 19</th>\n",
       "      <td>400.211816</td>\n",
       "      <td>1701.776578</td>\n",
       "      <td>99.811785</td>\n",
       "    </tr>\n",
       "    <tr>\n",
       "      <th>2018-04-14 20</th>\n",
       "      <td>400.179107</td>\n",
       "      <td>1701.733033</td>\n",
       "      <td>99.807629</td>\n",
       "    </tr>\n",
       "    <tr>\n",
       "      <th>2018-04-14 21</th>\n",
       "      <td>400.207855</td>\n",
       "      <td>1702.901208</td>\n",
       "      <td>99.795279</td>\n",
       "    </tr>\n",
       "    <tr>\n",
       "      <th>2018-04-14 22</th>\n",
       "      <td>400.215951</td>\n",
       "      <td>1702.517344</td>\n",
       "      <td>99.826116</td>\n",
       "    </tr>\n",
       "    <tr>\n",
       "      <th>2018-04-14 23</th>\n",
       "      <td>400.176064</td>\n",
       "      <td>1703.864479</td>\n",
       "      <td>99.775311</td>\n",
       "    </tr>\n",
       "    <tr>\n",
       "      <th>2018-04-15 00</th>\n",
       "      <td>400.206127</td>\n",
       "      <td>1704.285681</td>\n",
       "      <td>99.745665</td>\n",
       "    </tr>\n",
       "    <tr>\n",
       "      <th>2018-04-15 01</th>\n",
       "      <td>400.212990</td>\n",
       "      <td>1702.145325</td>\n",
       "      <td>99.850726</td>\n",
       "    </tr>\n",
       "    <tr>\n",
       "      <th>2018-04-15 02</th>\n",
       "      <td>400.216849</td>\n",
       "      <td>1702.437689</td>\n",
       "      <td>99.733506</td>\n",
       "    </tr>\n",
       "    <tr>\n",
       "      <th>2018-04-15 03</th>\n",
       "      <td>400.170886</td>\n",
       "      <td>1703.429645</td>\n",
       "      <td>99.801401</td>\n",
       "    </tr>\n",
       "    <tr>\n",
       "      <th>2018-04-15 04</th>\n",
       "      <td>400.183712</td>\n",
       "      <td>1700.554893</td>\n",
       "      <td>99.871615</td>\n",
       "    </tr>\n",
       "    <tr>\n",
       "      <th>2018-04-15 05</th>\n",
       "      <td>400.196063</td>\n",
       "      <td>1702.499259</td>\n",
       "      <td>99.729739</td>\n",
       "    </tr>\n",
       "    <tr>\n",
       "      <th>2018-04-15 06</th>\n",
       "      <td>400.188360</td>\n",
       "      <td>1704.888161</td>\n",
       "      <td>99.689035</td>\n",
       "    </tr>\n",
       "    <tr>\n",
       "      <th>2018-04-15 07</th>\n",
       "      <td>400.192134</td>\n",
       "      <td>1704.304172</td>\n",
       "      <td>99.791483</td>\n",
       "    </tr>\n",
       "    <tr>\n",
       "      <th>2018-04-15 08</th>\n",
       "      <td>400.200090</td>\n",
       "      <td>1700.689896</td>\n",
       "      <td>99.861274</td>\n",
       "    </tr>\n",
       "    <tr>\n",
       "      <th>2018-04-15 09</th>\n",
       "      <td>390.818691</td>\n",
       "      <td>1662.093963</td>\n",
       "      <td>99.774734</td>\n",
       "    </tr>\n",
       "    <tr>\n",
       "      <th>2018-04-15 10</th>\n",
       "      <td>390.158440</td>\n",
       "      <td>1658.801113</td>\n",
       "      <td>99.835596</td>\n",
       "    </tr>\n",
       "    <tr>\n",
       "      <th>2018-04-15 11</th>\n",
       "      <td>390.156252</td>\n",
       "      <td>1660.282625</td>\n",
       "      <td>99.738168</td>\n",
       "    </tr>\n",
       "    <tr>\n",
       "      <th>2018-04-15 12</th>\n",
       "      <td>390.149457</td>\n",
       "      <td>1658.906403</td>\n",
       "      <td>99.745750</td>\n",
       "    </tr>\n",
       "    <tr>\n",
       "      <th>2018-04-15 13</th>\n",
       "      <td>390.154768</td>\n",
       "      <td>1658.972548</td>\n",
       "      <td>99.842655</td>\n",
       "    </tr>\n",
       "    <tr>\n",
       "      <th>...</th>\n",
       "      <td>...</td>\n",
       "      <td>...</td>\n",
       "      <td>...</td>\n",
       "    </tr>\n",
       "    <tr>\n",
       "      <th>2018-07-08 15</th>\n",
       "      <td>421.379300</td>\n",
       "      <td>1791.361012</td>\n",
       "      <td>99.766752</td>\n",
       "    </tr>\n",
       "    <tr>\n",
       "      <th>2018-07-08 16</th>\n",
       "      <td>421.074736</td>\n",
       "      <td>1787.802642</td>\n",
       "      <td>99.847606</td>\n",
       "    </tr>\n",
       "    <tr>\n",
       "      <th>2018-07-08 17</th>\n",
       "      <td>424.312855</td>\n",
       "      <td>1802.875879</td>\n",
       "      <td>99.784315</td>\n",
       "    </tr>\n",
       "    <tr>\n",
       "      <th>2018-07-08 18</th>\n",
       "      <td>426.754712</td>\n",
       "      <td>1813.072858</td>\n",
       "      <td>99.805718</td>\n",
       "    </tr>\n",
       "    <tr>\n",
       "      <th>2018-07-08 19</th>\n",
       "      <td>422.771625</td>\n",
       "      <td>1796.254040</td>\n",
       "      <td>99.847525</td>\n",
       "    </tr>\n",
       "    <tr>\n",
       "      <th>2018-07-08 20</th>\n",
       "      <td>422.471943</td>\n",
       "      <td>1794.933647</td>\n",
       "      <td>99.864400</td>\n",
       "    </tr>\n",
       "    <tr>\n",
       "      <th>2018-07-08 21</th>\n",
       "      <td>423.993138</td>\n",
       "      <td>1803.943240</td>\n",
       "      <td>99.740199</td>\n",
       "    </tr>\n",
       "    <tr>\n",
       "      <th>2018-07-08 22</th>\n",
       "      <td>421.810290</td>\n",
       "      <td>1793.089632</td>\n",
       "      <td>99.849346</td>\n",
       "    </tr>\n",
       "    <tr>\n",
       "      <th>2018-07-08 23</th>\n",
       "      <td>422.463918</td>\n",
       "      <td>1795.245005</td>\n",
       "      <td>99.842787</td>\n",
       "    </tr>\n",
       "    <tr>\n",
       "      <th>2018-07-09 00</th>\n",
       "      <td>422.338541</td>\n",
       "      <td>1796.701937</td>\n",
       "      <td>99.774406</td>\n",
       "    </tr>\n",
       "    <tr>\n",
       "      <th>2018-07-09 01</th>\n",
       "      <td>420.630862</td>\n",
       "      <td>1787.162564</td>\n",
       "      <td>99.823828</td>\n",
       "    </tr>\n",
       "    <tr>\n",
       "      <th>2018-07-09 02</th>\n",
       "      <td>421.235344</td>\n",
       "      <td>1789.001398</td>\n",
       "      <td>99.907490</td>\n",
       "    </tr>\n",
       "    <tr>\n",
       "      <th>2018-07-09 03</th>\n",
       "      <td>422.062325</td>\n",
       "      <td>1793.362897</td>\n",
       "      <td>99.782434</td>\n",
       "    </tr>\n",
       "    <tr>\n",
       "      <th>2018-07-09 04</th>\n",
       "      <td>416.810156</td>\n",
       "      <td>1771.655173</td>\n",
       "      <td>99.824540</td>\n",
       "    </tr>\n",
       "    <tr>\n",
       "      <th>2018-07-09 05</th>\n",
       "      <td>416.559839</td>\n",
       "      <td>1769.292330</td>\n",
       "      <td>99.851084</td>\n",
       "    </tr>\n",
       "    <tr>\n",
       "      <th>2018-07-09 06</th>\n",
       "      <td>421.133904</td>\n",
       "      <td>1790.237480</td>\n",
       "      <td>99.820905</td>\n",
       "    </tr>\n",
       "    <tr>\n",
       "      <th>2018-07-09 07</th>\n",
       "      <td>397.521014</td>\n",
       "      <td>1675.018271</td>\n",
       "      <td>99.977410</td>\n",
       "    </tr>\n",
       "    <tr>\n",
       "      <th>2018-07-09 08</th>\n",
       "      <td>159.854268</td>\n",
       "      <td>1059.636932</td>\n",
       "      <td>74.373646</td>\n",
       "    </tr>\n",
       "    <tr>\n",
       "      <th>2018-07-09 09</th>\n",
       "      <td>43.498250</td>\n",
       "      <td>1838.670828</td>\n",
       "      <td>9.576446</td>\n",
       "    </tr>\n",
       "    <tr>\n",
       "      <th>2018-07-09 10</th>\n",
       "      <td>35.397518</td>\n",
       "      <td>17.903332</td>\n",
       "      <td>6.088599</td>\n",
       "    </tr>\n",
       "    <tr>\n",
       "      <th>2018-07-17 15</th>\n",
       "      <td>12.075003</td>\n",
       "      <td>771.814724</td>\n",
       "      <td>4.287031</td>\n",
       "    </tr>\n",
       "    <tr>\n",
       "      <th>2018-07-17 16</th>\n",
       "      <td>13.759618</td>\n",
       "      <td>402.843506</td>\n",
       "      <td>4.670955</td>\n",
       "    </tr>\n",
       "    <tr>\n",
       "      <th>2018-07-18 08</th>\n",
       "      <td>13.801861</td>\n",
       "      <td>1059.182693</td>\n",
       "      <td>4.872722</td>\n",
       "    </tr>\n",
       "    <tr>\n",
       "      <th>2018-07-18 09</th>\n",
       "      <td>18.889500</td>\n",
       "      <td>1452.263181</td>\n",
       "      <td>5.664530</td>\n",
       "    </tr>\n",
       "    <tr>\n",
       "      <th>2018-07-18 10</th>\n",
       "      <td>12.850337</td>\n",
       "      <td>1495.413149</td>\n",
       "      <td>3.094981</td>\n",
       "    </tr>\n",
       "    <tr>\n",
       "      <th>2018-07-18 11</th>\n",
       "      <td>1.915220</td>\n",
       "      <td>500.071795</td>\n",
       "      <td>2.193267</td>\n",
       "    </tr>\n",
       "    <tr>\n",
       "      <th>2018-07-18 13</th>\n",
       "      <td>7.267867</td>\n",
       "      <td>1704.805811</td>\n",
       "      <td>2.071254</td>\n",
       "    </tr>\n",
       "    <tr>\n",
       "      <th>2018-07-18 14</th>\n",
       "      <td>5.012876</td>\n",
       "      <td>1785.593514</td>\n",
       "      <td>1.338800</td>\n",
       "    </tr>\n",
       "    <tr>\n",
       "      <th>2018-07-18 15</th>\n",
       "      <td>3.419856</td>\n",
       "      <td>1714.391472</td>\n",
       "      <td>0.894116</td>\n",
       "    </tr>\n",
       "    <tr>\n",
       "      <th>2018-07-19 14</th>\n",
       "      <td>4.314923</td>\n",
       "      <td>181.319809</td>\n",
       "      <td>0.933466</td>\n",
       "    </tr>\n",
       "  </tbody>\n",
       "</table>\n",
       "<p>2026 rows × 3 columns</p>\n",
       "</div>"
      ],
      "text/plain": [
       "                    value      value_x    value_y\n",
       "ts                                               \n",
       "2018-04-14 08  410.209815  1745.531513  99.720408\n",
       "2018-04-14 09  406.182978  1727.005021  99.821289\n",
       "2018-04-14 10  400.168418  1702.118339  99.829918\n",
       "2018-04-14 11  400.177397  1701.470879  99.730133\n",
       "2018-04-14 12  400.187163  1703.327655  99.766087\n",
       "2018-04-14 13  400.184573  1700.783321  99.863487\n",
       "2018-04-14 14  400.182491  1702.173700  99.763345\n",
       "2018-04-14 15  400.187242  1701.961003  99.756831\n",
       "2018-04-14 16  400.196925  1700.717764  99.884635\n",
       "2018-04-14 17  400.208863  1702.800298  99.699225\n",
       "2018-04-14 18  400.228335  1703.242131  99.715941\n",
       "2018-04-14 19  400.211816  1701.776578  99.811785\n",
       "2018-04-14 20  400.179107  1701.733033  99.807629\n",
       "2018-04-14 21  400.207855  1702.901208  99.795279\n",
       "2018-04-14 22  400.215951  1702.517344  99.826116\n",
       "2018-04-14 23  400.176064  1703.864479  99.775311\n",
       "2018-04-15 00  400.206127  1704.285681  99.745665\n",
       "2018-04-15 01  400.212990  1702.145325  99.850726\n",
       "2018-04-15 02  400.216849  1702.437689  99.733506\n",
       "2018-04-15 03  400.170886  1703.429645  99.801401\n",
       "2018-04-15 04  400.183712  1700.554893  99.871615\n",
       "2018-04-15 05  400.196063  1702.499259  99.729739\n",
       "2018-04-15 06  400.188360  1704.888161  99.689035\n",
       "2018-04-15 07  400.192134  1704.304172  99.791483\n",
       "2018-04-15 08  400.200090  1700.689896  99.861274\n",
       "2018-04-15 09  390.818691  1662.093963  99.774734\n",
       "2018-04-15 10  390.158440  1658.801113  99.835596\n",
       "2018-04-15 11  390.156252  1660.282625  99.738168\n",
       "2018-04-15 12  390.149457  1658.906403  99.745750\n",
       "2018-04-15 13  390.154768  1658.972548  99.842655\n",
       "...                   ...          ...        ...\n",
       "2018-07-08 15  421.379300  1791.361012  99.766752\n",
       "2018-07-08 16  421.074736  1787.802642  99.847606\n",
       "2018-07-08 17  424.312855  1802.875879  99.784315\n",
       "2018-07-08 18  426.754712  1813.072858  99.805718\n",
       "2018-07-08 19  422.771625  1796.254040  99.847525\n",
       "2018-07-08 20  422.471943  1794.933647  99.864400\n",
       "2018-07-08 21  423.993138  1803.943240  99.740199\n",
       "2018-07-08 22  421.810290  1793.089632  99.849346\n",
       "2018-07-08 23  422.463918  1795.245005  99.842787\n",
       "2018-07-09 00  422.338541  1796.701937  99.774406\n",
       "2018-07-09 01  420.630862  1787.162564  99.823828\n",
       "2018-07-09 02  421.235344  1789.001398  99.907490\n",
       "2018-07-09 03  422.062325  1793.362897  99.782434\n",
       "2018-07-09 04  416.810156  1771.655173  99.824540\n",
       "2018-07-09 05  416.559839  1769.292330  99.851084\n",
       "2018-07-09 06  421.133904  1790.237480  99.820905\n",
       "2018-07-09 07  397.521014  1675.018271  99.977410\n",
       "2018-07-09 08  159.854268  1059.636932  74.373646\n",
       "2018-07-09 09   43.498250  1838.670828   9.576446\n",
       "2018-07-09 10   35.397518    17.903332   6.088599\n",
       "2018-07-17 15   12.075003   771.814724   4.287031\n",
       "2018-07-17 16   13.759618   402.843506   4.670955\n",
       "2018-07-18 08   13.801861  1059.182693   4.872722\n",
       "2018-07-18 09   18.889500  1452.263181   5.664530\n",
       "2018-07-18 10   12.850337  1495.413149   3.094981\n",
       "2018-07-18 11    1.915220   500.071795   2.193267\n",
       "2018-07-18 13    7.267867  1704.805811   2.071254\n",
       "2018-07-18 14    5.012876  1785.593514   1.338800\n",
       "2018-07-18 15    3.419856  1714.391472   0.894116\n",
       "2018-07-19 14    4.314923   181.319809   0.933466\n",
       "\n",
       "[2026 rows x 3 columns]"
      ]
     },
     "execution_count": 19,
     "metadata": {},
     "output_type": "execute_result"
    }
   ],
   "source": [
    "data_all"
   ]
  },
  {
   "cell_type": "code",
   "execution_count": 20,
   "metadata": {},
   "outputs": [],
   "source": [
    "mul = data_all.value_x * data_all.value_y\n",
    "mul = pd.DataFrame(mul)"
   ]
  },
  {
   "cell_type": "code",
   "execution_count": 21,
   "metadata": {},
   "outputs": [],
   "source": [
    "data_all.insert(1,'multiply',mul)"
   ]
  },
  {
   "cell_type": "code",
   "execution_count": 22,
   "metadata": {
    "scrolled": true
   },
   "outputs": [
    {
     "data": {
      "text/plain": [
       "ts\n",
       "2018-04-14 08    174065.115034\n",
       "2018-04-14 09    172391.868088\n",
       "2018-04-14 10    169922.333714\n",
       "2018-04-14 11    169687.916218\n",
       "2018-04-14 12    169934.334525\n",
       "2018-04-14 13    169846.153227\n",
       "2018-04-14 14    169814.541675\n",
       "2018-04-14 15    169782.236103\n",
       "2018-04-14 16    169875.572533\n",
       "2018-04-14 17    169767.870442\n",
       "2018-04-14 18    169840.391255\n",
       "2018-04-14 19    169857.358395\n",
       "2018-04-14 20    169845.938511\n",
       "2018-04-14 21    169941.501774\n",
       "2018-04-14 22    169955.694263\n",
       "2018-04-14 23    170003.607738\n",
       "2018-04-15 00    169995.108749\n",
       "2018-04-15 01    169960.446809\n",
       "2018-04-15 02    169790.078770\n",
       "2018-04-15 03    170004.664382\n",
       "2018-04-15 04    169837.164044\n",
       "2018-04-15 05    169789.806527\n",
       "2018-04-15 06    169958.656204\n",
       "2018-04-15 07    170075.040093\n",
       "2018-04-15 08    169833.059418\n",
       "2018-04-15 09    165834.983039\n",
       "2018-04-15 10    165607.397134\n",
       "2018-04-15 11    165593.546594\n",
       "2018-04-15 12    165468.863643\n",
       "2018-04-15 13    165636.223564\n",
       "                     ...      \n",
       "2018-07-08 15    178718.269004\n",
       "2018-07-08 16    178507.813906\n",
       "2018-07-08 17    179898.735412\n",
       "2018-07-08 18    180955.038616\n",
       "2018-07-08 19    179351.520769\n",
       "2018-07-08 20    179249.971255\n",
       "2018-07-08 21    179925.658040\n",
       "2018-07-08 22    179038.827122\n",
       "2018-07-08 23    179242.264526\n",
       "2018-07-09 00    179264.868684\n",
       "2018-07-09 01    178401.408660\n",
       "2018-07-09 02    178734.639826\n",
       "2018-07-09 03    178946.114501\n",
       "2018-07-09 04    176854.662811\n",
       "2018-07-09 05    176665.756524\n",
       "2018-07-09 06    178703.125591\n",
       "2018-07-09 07    167463.988666\n",
       "2018-07-09 08     78809.061635\n",
       "2018-07-09 09     17607.931381\n",
       "2018-07-09 10       109.006203\n",
       "2018-07-17 15      3308.793355\n",
       "2018-07-17 16      1881.663903\n",
       "2018-07-18 08      5161.102639\n",
       "2018-07-18 09      8226.387957\n",
       "2018-07-18 10      4628.275252\n",
       "2018-07-18 11      1096.791016\n",
       "2018-07-18 13      3531.085492\n",
       "2018-07-18 14      2390.552838\n",
       "2018-07-18 15      1532.864724\n",
       "2018-07-19 14       169.255938\n",
       "Name: multiply, Length: 2026, dtype: float64"
      ]
     },
     "execution_count": 22,
     "metadata": {},
     "output_type": "execute_result"
    }
   ],
   "source": [
    "data_all['multiply']"
   ]
  },
  {
   "cell_type": "code",
   "execution_count": 23,
   "metadata": {},
   "outputs": [
    {
     "data": {
      "text/plain": [
       "Text(0, 0.5, 'F_1_L23.I_T5202F02_2_mean_value')"
      ]
     },
     "execution_count": 23,
     "metadata": {},
     "output_type": "execute_result"
    },
    {
     "data": {
      "image/png": "[encoded data removed]",
      "text/plain": [
       "<Figure size 432x288 with 1 Axes>"
      ]
     },
     "metadata": {
      "needs_background": "light"
     },
     "output_type": "display_data"
    }
   ],
   "source": [
    "#流量与转速 * 负荷反馈\n",
    "import numpy as np\n",
    "c=np.random.randint(0,10,len(data_all))\n",
    "plt.scatter(data_all['multiply'],data_all['value'],c = c,marker = 'o')\n",
    "plt.xlabel('multipy_value')\n",
    "plt.ylabel('F_1_L23.I_T5202F02_2_mean_value')"
   ]
  },
  {
   "cell_type": "code",
   "execution_count": 34,
   "metadata": {},
   "outputs": [
    {
     "data": {
      "text/plain": [
       "Text(0, 0.5, 'F_1_L23.I_T5202F02_2_mean_value')"
      ]
     },
     "execution_count": 34,
     "metadata": {},
     "output_type": "execute_result"
    },
    {
     "data": {
      "image/png": "[encoded data removed]",
      "text/plain": [
       "<Figure size 432x288 with 1 Axes>"
      ]
     },
     "metadata": {
      "needs_background": "light"
     },
     "output_type": "display_data"
    }
   ],
   "source": [
    "#流量与转速结果反馈\n",
    "import numpy as np\n",
    "c=np.random.randint(0,10,len(data_all))\n",
    "plt.scatter(data_all['value_x'],data_all['value'],c = c,marker = 'o')\n",
    "plt.xlabel('F_1_L23.I_T5202F02_2S01_mean_value')\n",
    "plt.ylabel('F_1_L23.I_T5202F02_2_mean_value')"
   ]
  },
  {
   "cell_type": "code",
   "execution_count": 33,
   "metadata": {},
   "outputs": [
    {
     "data": {
      "text/plain": [
       "Text(0, 0.5, 'F_1_L23.I_T5202F02_2_mean_value')"
      ]
     },
     "execution_count": 33,
     "metadata": {},
     "output_type": "execute_result"
    },
    {
     "data": {
      "image/png": "[encoded data removed]",
      "text/plain": [
       "<Figure size 432x288 with 1 Axes>"
      ]
     },
     "metadata": {
      "needs_background": "light"
     },
     "output_type": "display_data"
    }
   ],
   "source": [
    "#流量和负荷的反馈\n",
    "import numpy as np\n",
    "c=np.random.randint(0,10,len(data_all))\n",
    "plt.scatter(data_all['value_y'],data_all['value'],c = c,marker = 'o')\n",
    "plt.xlabel('F_1_L23.I_T5202F02_2I')\n",
    "plt.ylabel('F_1_L23.I_T5202F02_2_mean_value')"
   ]
  },
  {
   "cell_type": "code",
   "execution_count": null,
   "metadata": {},
   "outputs": [],
   "source": []
  }
 ],
 "metadata": {
  "kernelspec": {
   "display_name": "Python 3",
   "language": "python",
   "name": "python3"
  },
  "language_info": {
   "codemirror_mode": {
    "name": "ipython",
    "version": 3
   },
   "file_extension": ".py",
   "mimetype": "text/x-python",
   "name": "python",
   "nbconvert_exporter": "python",
   "pygments_lexer": "ipython3",
   "version": "3.7.1"
  }
 },
 "nbformat": 4,
 "nbformat_minor": 2
}
